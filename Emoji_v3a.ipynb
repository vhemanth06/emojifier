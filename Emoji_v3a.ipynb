{
  "cells": [
    {
      "cell_type": "markdown",
      "metadata": {
        "id": "5bgPpghocFIa"
      },
      "source": [
        "# Emojify!\n",
        "\n",
        "Welcome to the second assignment of Week 2! You're going to use word vector representations to build an Emojifier.\n",
        "🤩 💫 🔥\n",
        "\n",
        "Have you ever wanted to make your text messages more expressive? Your emojifier app will help you do that.\n",
        "Rather than writing:\n",
        ">\"Congratulations on the promotion! Let's get coffee and talk. Love you!\"   \n",
        "\n",
        "The emojifier can automatically turn this into:\n",
        ">\"Congratulations on the promotion! 👍  Let's get coffee and talk. ☕️ Love you! ❤️\"\n",
        "\n",
        "You'll implement a model which inputs a sentence (such as \"Let's go see the baseball game tonight!\") and finds the most appropriate emoji to be used with this sentence (⚾️).\n",
        "\n",
        "### Using Word Vectors to Improve Emoji Lookups\n",
        "* In many emoji interfaces, you need to remember that ❤️  is the \"heart\" symbol rather than the \"love\" symbol.\n",
        "    * In other words, you'll have to remember to type \"heart\" to find the desired emoji, and typing \"love\" won't bring up that symbol.\n",
        "* You can make a more flexible emoji interface by using word vectors!\n",
        "* When using word vectors, you'll see that even if your training set explicitly relates only a few words to a particular emoji, your algorithm will be able to generalize and associate additional words in the test set to the same emoji.\n",
        "    * This works even if those additional words don't even appear in the training set.\n",
        "    * This allows you to build an accurate classifier mapping from sentences to emojis, even using a small training set.\n",
        "\n",
        "### What you'll build:\n",
        "1. In this exercise, you'll start with a baseline model (Emojifier-V1) using word embeddings.\n",
        "2. Then you will build a more sophisticated model (Emojifier-V2) that further incorporates an LSTM.\n",
        "\n",
        "By the end of this notebook, you'll be able to:\n",
        "\n",
        "* Create an embedding layer in Keras with pre-trained word vectors\n",
        "* Explain the advantages and disadvantages of the GloVe algorithm\n",
        "* Build a sentiment classifier using word embeddings\n",
        "* Build and train a more sophisticated classifier using an LSTM\n",
        "\n",
        "🏀 👑\n",
        "\n",
        "👆 😎\n",
        "\n",
        "(^^^ Emoji for \"skills\")\n",
        "\n",
        "## Important Note on Submission to the AutoGrader\n",
        "\n",
        "Before submitting your assignment to the AutoGrader, please make sure you are not doing the following:\n",
        "\n",
        "1. You have not added any _extra_ `print` statement(s) in the assignment.\n",
        "2. You have not added any _extra_ code cell(s) in the assignment.\n",
        "3. You have not changed any of the function parameters.\n",
        "4. You are not using any global variables inside your graded exercises. Unless specifically instructed to do so, please refrain from it and use the local variables instead.\n",
        "5. You are not changing the assignment code where it is not required, like creating _extra_ variables.\n",
        "\n",
        "If you do any of the following, you will get something like, `Grader Error: Grader feedback not found` (or similarly unexpected) error upon submitting your assignment. Before asking for help/debugging the errors in your assignment, check for these first. If this is the case, and you don't remember the changes you have made, you can get a fresh copy of the assignment by following these [instructions](https://www.coursera.org/learn/nlp-sequence-models/supplement/qHIve/h-ow-to-refresh-your-workspace)."
      ]
    },
    {
      "cell_type": "markdown",
      "metadata": {
        "id": "21g1BU2dnCYN"
      },
      "source": [
        "## Table of Contents\n",
        "\n",
        "- [Packages](#0)\n",
        "- [1 - Baseline Model: Emojifier-V1](#1)\n",
        "    - [1.1 - Dataset EMOJISET](#1-1)\n",
        "    - [1.2 - Overview of the Emojifier-V1](#1-2)\n",
        "    - [1.3 - Implementing Emojifier-V1](#1-3)\n",
        "        - [Exercise 1 - sentence_to_avg](#ex-1)\n",
        "    - [1.4 - Implement the Model](#1-4)\n",
        "        - [Exercise 2 - model](#ex-2)\n",
        "    - [1.5 - Examining Test Set Performance](#1-5)\n",
        "- [2 - Emojifier-V2: Using LSTMs in Keras](#2)\n",
        "    - [2.1 - Model Overview](#2-1)\n",
        "    - [2.2 Keras and Mini-batching](#2-2)\n",
        "    - [2.3 - The Embedding Layer](#2-3)\n",
        "        - [Exercise 3 - sentences_to_indices](#ex-3)\n",
        "        - [Exercise 4 - pretrained_embedding_layer](#ex-4)\n",
        "    - [2.4 - Building the Emojifier-V2](#2-4)\n",
        "        - [Exercise 5 - Emojify_V2](#ex-5)\n",
        "    - [2.5 - Train the Model](#2-5)\n",
        "- [3 - Acknowledgments](#3)"
      ]
    },
    {
      "cell_type": "markdown",
      "metadata": {
        "id": "HsztVBA8cFIg"
      },
      "source": [
        "<a name='0'></a>\n",
        "## Packages\n",
        "\n",
        "Let's get started! Run the following cell to load the packages you're going to use."
      ]
    },
    {
      "cell_type": "code",
      "execution_count": null,
      "metadata": {
        "deletable": false,
        "editable": false,
        "id": "g8r8AFOQnCYO"
      },
      "outputs": [],
      "source": [
        "### v3.0"
      ]
    },
    {
      "cell_type": "code",
      "execution_count": 1,
      "metadata": {
        "id": "lMZ9xg8MFHZU"
      },
      "outputs": [],
      "source": [
        "import numpy as np\n",
        "# from emo_utils import *\n",
        "# import emoji\n",
        "import matplotlib.pyplot as plt\n",
        "import pandas as pd\n",
        "# from test_utils import *\n",
        "\n",
        "%matplotlib inline"
      ]
    },
    {
      "cell_type": "markdown",
      "metadata": {
        "id": "Av0PwZYscFIh"
      },
      "source": [
        "<a name='1'></a>\n",
        "## 1 - Baseline Model: Emojifier-V1\n",
        "\n",
        "<a name='1-1'></a>\n",
        "### 1.1 - Dataset EMOJISET\n",
        "\n",
        "Let's start by building a simple baseline classifier.\n",
        "\n",
        "You have a tiny dataset (X, Y) where:\n",
        "- X contains 127 sentences (strings).\n",
        "- Y contains an integer label between 0 and 4 corresponding to an emoji for each sentence.\n",
        "\n",
        "<img src=\"images/data_set.png\" style=\"width:700px;height:300px;\">\n",
        "<caption><center><font color='purple'><b>Figure 1</b>: EMOJISET - a classification problem with 5 classes. A few examples of sentences are given here. </center></caption>\n",
        "\n",
        "Load the dataset using the code below. The dataset is split between training (127 examples) and testing (56 examples)."
      ]
    },
    {
      "cell_type": "code",
      "source": [
        "from google.colab import drive\n",
        "drive.mount('/content/drive')"
      ],
      "metadata": {
        "id": "_Trc3PQHznDG",
        "colab": {
          "base_uri": "https://localhost:8080/"
        },
        "outputId": "c2b42811-d660-4bd5-f08c-48aaf781abff"
      },
      "execution_count": 3,
      "outputs": [
        {
          "output_type": "stream",
          "name": "stdout",
          "text": [
            "Mounted at /content/drive\n"
          ]
        }
      ]
    },
    {
      "cell_type": "code",
      "execution_count": 4,
      "metadata": {
        "id": "OvuoZ8pWcFIi"
      },
      "outputs": [],
      "source": [
        "\n",
        "train_df = pd.read_csv('/content/drive/My Drive/DL assignments/train_emoji.csv')\n",
        "test_df = pd.read_csv('/content/drive/My Drive/DL assignments/tesss.csv')\n",
        "\n",
        "X_train = train_df['text']\n",
        "Y_train = train_df['label']\n",
        "\n",
        "X_test = test_df['text']\n",
        "Y_test = test_df['label']\n",
        "# X_train, Y_train = pd.read_csv('train_emoji.csv')\n",
        "# X_test, Y_test = pd.read_csv('tesss.csv')"
      ]
    },
    {
      "cell_type": "markdown",
      "metadata": {
        "id": "Vy6sb5MpnCYR"
      },
      "source": [
        "In the below code cell, you will find out the sentence with the maximum number of words, and will store it's length in `maxLen` (*i.e., the number of words in the longest sentence, which will be used further*). Let's break down this code for a better understanding.\n",
        "\n",
        "- The first point to note here is that `split()` breaks a string into a list of it's words. So, if `x` is a string, then `len(x.split())` returns the number of words in that string. You can read more about `split` [here](https://docs.python.org/3/library/stdtypes.html?highlight=split#str.split).\n",
        "\n",
        "- The second point to note here is the way in which the `max` function has been used. As can be read [here](https://docs.python.org/3/library/functions.html#max), apart from an iterable (which in your case is `X_train`, a list of strings), this function also has a `key` argument, that can be used to modify the basis on which the largest element in the iterable is chosen.\n",
        "\n",
        "In this case, `key` has been chosen as the number of words in a string. So the `max` function will return the string with the largest number of words."
      ]
    },
    {
      "cell_type": "code",
      "execution_count": 5,
      "metadata": {
        "id": "DjAuDbxrcFIi"
      },
      "outputs": [],
      "source": [
        "maxLen = len(max(X_train, key=lambda x: len(x.split())).split())"
      ]
    },
    {
      "cell_type": "code",
      "source": [],
      "metadata": {
        "id": "HBVcS31Xx_Dc",
        "outputId": "cbf9c931-8b79-45f7-c5d0-697b5d345e90",
        "colab": {
          "base_uri": "https://localhost:8080/"
        }
      },
      "execution_count": null,
      "outputs": [
        {
          "output_type": "stream",
          "name": "stdout",
          "text": [
            "Mounted at /content/drive\n"
          ]
        }
      ]
    },
    {
      "cell_type": "markdown",
      "metadata": {
        "id": "EpbQIx7dcFIi"
      },
      "source": [
        "Run the following cell to print sentences from X_train and corresponding labels from Y_train.\n",
        "* Change `idx` to see different examples.\n",
        "* Note that due to the font used by iPython notebook, the heart emoji may be colored black rather than red."
      ]
    },
    {
      "cell_type": "code",
      "source": [
        "emoji_dict = {\n",
        "    0: \"❤️\",\n",
        "    1: \"⚾\",\n",
        "    2: \"😄\",\n",
        "    3: \"😢\",\n",
        "    4: \"🍕\"\n",
        "}\n",
        "def label_to_emoji(label):\n",
        "    return emoji_dict.get(label, \"❓\")"
      ],
      "metadata": {
        "id": "as9Cg-Hjp9LQ"
      },
      "execution_count": 6,
      "outputs": []
    },
    {
      "cell_type": "code",
      "execution_count": 7,
      "metadata": {
        "colab": {
          "base_uri": "https://localhost:8080/"
        },
        "id": "vE1Zd2SMcFIj",
        "outputId": "039a24f9-3090-466d-8314-42788aad0eaf"
      },
      "outputs": [
        {
          "output_type": "stream",
          "name": "stdout",
          "text": [
            "never talk to me again 😢\n",
            "I am proud of your achievements 😄\n",
            "It is the worst day in my life 😢\n",
            "Miss you so much ❤️\n",
            "food is life 🍕\n",
            "I love you mum ❤️\n",
            "Stop saying bullshit 😢\n",
            "congratulations on your acceptance 😄\n",
            "The assignment is too long  😢\n",
            "I want to go play ⚾\n"
          ]
        }
      ],
      "source": [
        "for idx in range(10):\n",
        "    print(X_train[idx], label_to_emoji(Y_train[idx]))"
      ]
    },
    {
      "cell_type": "markdown",
      "metadata": {
        "id": "tS_N2pMpcFIk"
      },
      "source": [
        "<a name='1-2'></a>\n",
        "### 1.2 - Overview of the Emojifier-V1\n",
        "\n",
        "In this section, you'll implement a baseline model called \"Emojifier-v1\".  \n",
        "\n",
        "<center>\n",
        "<img src=\"images/image_1.png\" style=\"width:900px;height:300px;\">\n",
        "    <caption><center><font color='purple'><b>Figure 2</b>: Baseline model (Emojifier-V1).</center></caption>\n",
        "</center></font>\n",
        "\n",
        "\n",
        "#### Inputs and Outputs\n",
        "* The input of the model is a string corresponding to a sentence (e.g. \"I love you\").\n",
        "* The output will be a probability vector of shape (1,5), (indicating that there are 5 emojis to choose from).\n",
        "* The (1,5) probability vector is passed to an argmax layer, which extracts the index of the emoji with the highest probability."
      ]
    },
    {
      "cell_type": "markdown",
      "metadata": {
        "id": "Y6nloeF5cFIl"
      },
      "source": [
        "#### One-hot Encoding\n",
        "* To get your labels into a format suitable for training a softmax classifier, convert $Y$ from its current shape  $(m, 1)$ into a \"one-hot representation\" $(m, 5)$,\n",
        "    * Each row is a one-hot vector giving the label of one example.\n",
        "    * Here, `Y_oh` stands for \"Y-one-hot\" in the variable names `Y_oh_train` and `Y_oh_test`:"
      ]
    },
    {
      "cell_type": "code",
      "source": [
        "def convert_to_one_hot(Y, C):\n",
        "    Y = np.array(Y).astype(int)\n",
        "    m = Y.shape[0]\n",
        "    one_hot = np.zeros((m, C))\n",
        "    one_hot[np.arange(m), Y] = 1\n",
        "    return one_hot"
      ],
      "metadata": {
        "id": "UNeNL8odrWnv"
      },
      "execution_count": 8,
      "outputs": []
    },
    {
      "cell_type": "code",
      "execution_count": 9,
      "metadata": {
        "id": "RhRTRwVncFIm"
      },
      "outputs": [],
      "source": [
        "Y_oh_train = convert_to_one_hot(Y_train, C = 5)\n",
        "Y_oh_test = convert_to_one_hot(Y_test, C = 5)"
      ]
    },
    {
      "cell_type": "markdown",
      "metadata": {
        "id": "2w3GRkw2cFIo"
      },
      "source": [
        "Now, see what `convert_to_one_hot()` did. Feel free to change `index` to print out different values."
      ]
    },
    {
      "cell_type": "code",
      "execution_count": 10,
      "metadata": {
        "colab": {
          "base_uri": "https://localhost:8080/"
        },
        "id": "GlHYeuBIcFIo",
        "outputId": "95db3c4d-73f6-4217-d75e-fe3a07f5f0e7"
      },
      "outputs": [
        {
          "output_type": "stream",
          "name": "stdout",
          "text": [
            "Sentence 'I missed you' has label index 0, which is emoji ❤️\n",
            "Label index 0 in one-hot encoding format is [1. 0. 0. 0. 0.]\n"
          ]
        }
      ],
      "source": [
        "idx = 50\n",
        "print(f\"Sentence '{X_train[idx]}' has label index {Y_train[idx]}, which is emoji {label_to_emoji(Y_train[idx])}\", )\n",
        "print(f\"Label index {Y_train[idx]} in one-hot encoding format is {Y_oh_train[idx]}\")"
      ]
    },
    {
      "cell_type": "markdown",
      "metadata": {
        "id": "gbFECkqAcFIp"
      },
      "source": [
        "All the data is now ready to be fed into the Emojify-V1 model. You're ready to implement the model!"
      ]
    },
    {
      "cell_type": "markdown",
      "metadata": {
        "id": "KI8mJoafcFIp"
      },
      "source": [
        "<a name='1-3'></a>\n",
        "### 1.3 - Implementing Emojifier-V1\n",
        "\n",
        "As shown in Figure 2 (above), the first step is to:\n",
        "* Convert each word in the input sentence into their word vector representations.\n",
        "* Take an average of the word vectors.\n",
        "\n",
        "Similar to this week's previous assignment, you'll use pre-trained 50-dimensional GloVe embeddings.\n",
        "\n",
        "Run the following cell to load the `word_to_vec_map`, which contains all the vector representations."
      ]
    },
    {
      "cell_type": "code",
      "source": [
        "def read_glove_vecs(glove_file):\n",
        "    word_to_vec_map = {}\n",
        "    with open(glove_file, 'r', encoding='utf-8') as f:\n",
        "        for line in f:\n",
        "            line = line.strip().split()\n",
        "            word = line[0]\n",
        "            vec = np.array(line[1:], dtype=np.float64)\n",
        "            word_to_vec_map[word] = vec\n",
        "\n",
        "    words = sorted(word_to_vec_map.keys())\n",
        "    word_to_index = {}\n",
        "    index_to_word = {}\n",
        "\n",
        "    for i, word in enumerate(words, 1):\n",
        "        word_to_index[word] = i\n",
        "        index_to_word[i] = word\n",
        "\n",
        "    return word_to_index, index_to_word, word_to_vec_map\n"
      ],
      "metadata": {
        "id": "cpSu9BZ-rv-G"
      },
      "execution_count": 11,
      "outputs": []
    },
    {
      "cell_type": "markdown",
      "source": [],
      "metadata": {
        "id": "RedF57jGr2rC"
      }
    },
    {
      "cell_type": "code",
      "execution_count": 12,
      "metadata": {
        "id": "QXI3avt7cFIq"
      },
      "outputs": [],
      "source": [
        "word_to_index, index_to_word, word_to_vec_map = read_glove_vecs('/content/drive/My Drive/DL assignments/glove.6B.50d.txt')"
      ]
    },
    {
      "cell_type": "markdown",
      "metadata": {
        "id": "9JM-0zg6cFIr"
      },
      "source": [
        "You've loaded:\n",
        "- `word_to_index`: dictionary mapping from words to their indices in the vocabulary\n",
        "    - (400,001 words, with the valid indices ranging from 0 to 400,000)\n",
        "- `index_to_word`: dictionary mapping from indices to their corresponding words in the vocabulary\n",
        "- `word_to_vec_map`: dictionary mapping words to their GloVe vector representation.\n",
        "\n",
        "Run the following cell to check if it works:"
      ]
    },
    {
      "cell_type": "code",
      "execution_count": 13,
      "metadata": {
        "colab": {
          "base_uri": "https://localhost:8080/"
        },
        "id": "RB2ZN6ajcFIr",
        "outputId": "91a0255c-6845-4050-fbd3-dcb33d79c727"
      },
      "outputs": [
        {
          "output_type": "stream",
          "name": "stdout",
          "text": [
            "the index of cucumber in the vocabulary is 113317\n",
            "the 289846th word in the vocabulary is potatos\n"
          ]
        }
      ],
      "source": [
        "word = \"cucumber\"\n",
        "idx = 289846\n",
        "print(\"the index of\", word, \"in the vocabulary is\", word_to_index[word])\n",
        "print(\"the\", str(idx) + \"th word in the vocabulary is\", index_to_word[idx])"
      ]
    },
    {
      "cell_type": "markdown",
      "metadata": {
        "id": "wg9QpkR5cFIs"
      },
      "source": [
        "<a name='ex-1'></a>\n",
        "### Exercise 1 - sentence_to_avg\n",
        "\n",
        "Implement `sentence_to_avg()`\n",
        "\n",
        "You'll need to carry out two steps:\n",
        "\n",
        "1. Convert every sentence to lower-case, then split the sentence into a list of words.\n",
        "    * `X.lower()` and `X.split()` might be useful. 😉\n",
        "2. For each word in the sentence, access its GloVe representation.\n",
        "    * Then take the average of all of these word vectors.\n",
        "    * You might use `numpy.zeros()`, which you can read more about [here]('https://numpy.org/doc/stable/reference/generated/numpy.zeros.html').\n",
        "    \n",
        "    \n",
        "#### Additional Hints\n",
        "* When creating the `avg` array of zeros, you'll want it to be a vector of the same shape as the other word vectors in the `word_to_vec_map`.  \n",
        "    * You can choose a word that exists in the `word_to_vec_map` and access its `.shape` field.\n",
        "    * Be careful not to hard-code the word that you access.  In other words, don't assume that if you see the word 'the' in the `word_to_vec_map` within this notebook, that this word will be in the `word_to_vec_map` when the function is being called by the automatic grader.\n",
        "\n",
        "**Hint**: you can use any one of the word vectors that you retrieved from the input `sentence` to find the shape of a word vector."
      ]
    },
    {
      "cell_type": "code",
      "execution_count": 14,
      "metadata": {
        "id": "buYjsIBecFIs"
      },
      "outputs": [],
      "source": [
        "# UNQ_C1 (UNIQUE CELL IDENTIFIER, DO NOT EDIT)\n",
        "# GRADED FUNCTION: sentence_to_avg\n",
        "\n",
        "def sentence_to_avg(sentence, word_to_vec_map):\n",
        "    \"\"\"\n",
        "    Converts a sentence (string) into a list of words (strings). Extracts the GloVe representation of each word\n",
        "    and averages its value into a single vector encoding the meaning of the sentence.\n",
        "\n",
        "    Arguments:\n",
        "    sentence -- string, one training example from X\n",
        "    word_to_vec_map -- dictionary mapping every word in a vocabulary into its 50-dimensional vector representation\n",
        "\n",
        "    Returns:\n",
        "    avg -- average vector encoding information about the sentence, numpy-array of shape (J,), where J can be any number\n",
        "    \"\"\"\n",
        "    # Get a valid word contained in the word_to_vec_map.\n",
        "    any_word = next(iter(word_to_vec_map.keys()))\n",
        "\n",
        "    ### START CODE HERE ###\n",
        "    # Step 1: Split sentence into list of lower case words (≈ 1 line)\n",
        "    words = sentence.lower().split()\n",
        "\n",
        "    # Initialize the average word vector, should have the same shape as your word vectors.\n",
        "    # Use `np.zeros` and pass in the argument of any word's word 2 vec's shape\n",
        "    avg = np.zeros(word_to_vec_map[any_word].shape)\n",
        "\n",
        "    # Initialize count to 0\n",
        "    count = 0\n",
        "\n",
        "    # Step 2: average the word vectors. You can loop over the words in the list \"words\".\n",
        "    for w in words:\n",
        "        # Check that word exists in word_to_vec_map\n",
        "        if w in word_to_vec_map:\n",
        "            avg += word_to_vec_map[w]\n",
        "            # Increment count\n",
        "            count +=1\n",
        "\n",
        "    if count > 0:\n",
        "        # Get the average. But only if count > 0\n",
        "        avg = avg/count\n",
        "\n",
        "    ### END CODE HERE ###\n",
        "\n",
        "    return avg"
      ]
    },
    {
      "cell_type": "code",
      "execution_count": 15,
      "metadata": {
        "colab": {
          "base_uri": "https://localhost:8080/"
        },
        "deletable": false,
        "editable": false,
        "id": "7OwW-r6ecFIt",
        "outputId": "e0ba43f7-f525-4cbf-bf3a-074867449b25",
        "scrolled": true
      },
      "outputs": [
        {
          "output_type": "stream",
          "name": "stdout",
          "text": [
            "avg = \n",
            " [-0.008005    0.56370833 -0.50427333  0.258865    0.55131103  0.03104983\n",
            " -0.21013718  0.16893933 -0.09590267  0.141784   -0.15708967  0.18525867\n",
            "  0.6495785   0.38371117  0.21102167  0.11301667  0.02613967  0.26037767\n",
            "  0.05820667 -0.01578167 -0.12078833 -0.02471267  0.4128455   0.5152061\n",
            "  0.38756167 -0.898661   -0.535145    0.33501167  0.68806933 -0.2156265\n",
            "  1.797155    0.10476933 -0.36775333  0.750785    0.10282583  0.348925\n",
            " -0.27262833  0.66768    -0.10706167 -0.283635    0.59580117  0.28747333\n",
            " -0.3366635   0.23393817  0.34349183  0.178405    0.1166155  -0.076433\n",
            "  0.1445417   0.09808667]\n",
            "\u001b[92mAll tests passed!\n"
          ]
        }
      ],
      "source": [
        "### YOU CANNOT EDIT THIS CELL\n",
        "\n",
        "# BEGIN UNIT TEST\n",
        "avg = sentence_to_avg(\"Morrocan couscous is my favorite dish\", word_to_vec_map)\n",
        "print(\"avg = \\n\", avg)\n",
        "\n",
        "def sentence_to_avg_test(target):\n",
        "    # Create a controlled word to vec map\n",
        "    word_to_vec_map = {'a': [3, 3], 'synonym_of_a': [3, 3], 'a_nw': [2, 4], 'a_s': [3, 2],\n",
        "                       'c': [-2, 1], 'c_n': [-2, 2],'c_ne': [-1, 2], 'c_e': [-1, 1], 'c_se': [-1, 0],\n",
        "                       'c_s': [-2, 0], 'c_sw': [-3, 0], 'c_w': [-3, 1], 'c_nw': [-3, 2]\n",
        "                      }\n",
        "    # Convert lists to np.arrays\n",
        "    for key in word_to_vec_map.keys():\n",
        "        word_to_vec_map[key] = np.array(word_to_vec_map[key])\n",
        "\n",
        "    avg = target(\"a a_nw c_w a_s\", word_to_vec_map)\n",
        "    assert tuple(avg.shape) == tuple(word_to_vec_map['a'].shape),  \"Check the shape of your avg array\"\n",
        "    assert np.allclose(avg, [1.25, 2.5]),  \"Check that you are finding the 4 words\"\n",
        "    avg = target(\"love a a_nw c_w a_s\", word_to_vec_map)\n",
        "    assert np.allclose(avg, [1.25, 2.5]), \"Divide by count, not len(words)\"\n",
        "    avg = target(\"love\", word_to_vec_map)\n",
        "    assert np.array_equal(avg, [0, 0]), \"Average of no words must give an array of zeros\"\n",
        "    avg = target(\"c_se foo a a_nw c_w a_s deeplearning c_nw\", word_to_vec_map)\n",
        "    assert np.allclose(avg, [0.1666667, 2.0]), \"Debug the last example\"\n",
        "\n",
        "    print(\"\\033[92mAll tests passed!\")\n",
        "\n",
        "sentence_to_avg_test(sentence_to_avg)\n",
        "\n",
        "# END UNIT TEST"
      ]
    },
    {
      "cell_type": "markdown",
      "metadata": {
        "id": "NPPv5gmucFIv"
      },
      "source": [
        "<a name='1-4'></a>\n",
        "### 1.4 - Implement the Model\n",
        "\n",
        "You now have all the pieces to finish implementing the `model()` function!\n",
        "After using `sentence_to_avg()` you need to:\n",
        "* Pass the average through forward propagation\n",
        "* Compute the cost\n",
        "* Backpropagate to update the softmax parameters\n",
        "\n",
        "<a name='ex-2'></a>\n",
        "### Exercise 2 - model\n",
        "\n",
        "Implement the `model()` function described in Figure (2).\n",
        "\n",
        "* The equations you need to implement in the forward pass and to compute the cross-entropy cost are below:\n",
        "* The variable $Y_{oh}$ (\"Y one hot\") is the one-hot encoding of the output labels.\n",
        "\n",
        "$$ z^{(i)} = Wavg^{(i)} + b$$\n",
        "\n",
        "$$ a^{(i)} = softmax(z^{(i)})$$\n",
        "\n",
        "$$ \\mathcal{L}^{(i)} = - \\sum_{k = 0}^{n_y - 1} Y_{oh,k}^{(i)} * log(a^{(i)}_k)$$\n",
        "\n",
        "**Note**: It is possible to come up with a more efficient vectorized implementation. For now, just use nested for loops to better understand the algorithm, and for easier debugging.\n",
        "\n",
        "The function `softmax()` is provided, and has already been imported."
      ]
    },
    {
      "cell_type": "code",
      "source": [
        "def predict(X, Y, W, b, word_to_vec_map):\n",
        "    \"\"\"\n",
        "    Predicts emojis for sentences using a trained softmax classifier.\n",
        "\n",
        "    Args:\n",
        "        X -- list/array of sentences\n",
        "        Y -- true labels\n",
        "        W -- weight matrix (n_classes, embedding_dim)\n",
        "        b -- bias vector (n_classes,)\n",
        "        word_to_vec_map -- dict mapping words to GloVe vectors\n",
        "\n",
        "    Returns:\n",
        "        pred -- numpy array of predicted labels\n",
        "    \"\"\"\n",
        "    m = len(X)   # number of examples\n",
        "    pred = np.zeros((m,))\n",
        "\n",
        "    for i in range(m):\n",
        "        avg = sentence_to_avg(X[i], word_to_vec_map)      # sentence embedding\n",
        "        z = np.dot(W, avg) + b                           # logits\n",
        "        a = np.exp(z) / np.sum(np.exp(z))                # softmax\n",
        "        pred[i] = np.argmax(a)                           # predicted label\n",
        "\n",
        "        # Optional: print results for inspection\n",
        "        # if i < 5:  # show only first few\n",
        "        #     print(\"Sentence:\", X[i])\n",
        "        #     print(\"True label:\", Y[i])\n",
        "        #     print(\"Predicted label:\", int(pred[i]))\n",
        "        #     print(\"-----------\")\n",
        "\n",
        "    acc = np.mean(pred == Y) * 100\n",
        "    print(f\"Accuracy: {acc:.2f}%\")\n",
        "\n",
        "    return pred"
      ],
      "metadata": {
        "id": "dy9Et2ELuRbp"
      },
      "execution_count": 16,
      "outputs": []
    },
    {
      "cell_type": "code",
      "source": [
        "def softmax(z):\n",
        "    z_exp = np.exp(z)\n",
        "    s = z_exp / np.sum(z_exp)\n",
        "    return s"
      ],
      "metadata": {
        "id": "dClAdtteuZZz"
      },
      "execution_count": 17,
      "outputs": []
    },
    {
      "cell_type": "code",
      "execution_count": 18,
      "metadata": {
        "id": "O_BzrO-TcFIv"
      },
      "outputs": [],
      "source": [
        "# UNQ_C2 (UNIQUE CELL IDENTIFIER, DO NOT EDIT)\n",
        "# GRADED FUNCTION: model\n",
        "\n",
        "def model(X, Y, word_to_vec_map, learning_rate = 0.01, num_iterations = 400):\n",
        "    \"\"\"\n",
        "    Model to train word vector representations in numpy.\n",
        "\n",
        "    Arguments:\n",
        "    X -- input data, numpy array of sentences as strings, of shape (m,)\n",
        "    Y -- labels, numpy array of integers between 0 and 7, numpy-array of shape (m, 1)\n",
        "    word_to_vec_map -- dictionary mapping every word in a vocabulary into its 50-dimensional vector representation\n",
        "    learning_rate -- learning_rate for the stochastic gradient descent algorithm\n",
        "    num_iterations -- number of iterations\n",
        "\n",
        "    Returns:\n",
        "    pred -- vector of predictions, numpy-array of shape (m, 1)\n",
        "    W -- weight matrix of the softmax layer, of shape (n_y, n_h)\n",
        "    b -- bias of the softmax layer, of shape (n_y,)\n",
        "    \"\"\"\n",
        "\n",
        "    # Get a valid word contained in the word_to_vec_map\n",
        "    any_word = next(iter(word_to_vec_map.keys()))\n",
        "\n",
        "    # Define number of training examples\n",
        "    m = Y.shape[0]                             # number of training examples\n",
        "    n_y = len(np.unique(Y))                    # number of classes\n",
        "    n_h = word_to_vec_map[any_word].shape[0]   # dimensions of the GloVe vectors\n",
        "\n",
        "    # Initialize parameters using Xavier initialization\n",
        "    W = np.random.randn(n_y, n_h) / np.sqrt(n_h)\n",
        "    b = np.zeros((n_y,))\n",
        "\n",
        "    # Convert Y to Y_onehot with n_y classes\n",
        "    Y_oh = convert_to_one_hot(Y, C = n_y)\n",
        "\n",
        "    # Optimization loop\n",
        "    for t in range(num_iterations): # Loop over the number of iterations\n",
        "\n",
        "        cost = 0\n",
        "        dW = 0\n",
        "        db = 0\n",
        "\n",
        "        for i in range(m):          # Loop over the training examples\n",
        "\n",
        "            ### START CODE HERE ### (≈ 4 lines of code)\n",
        "            # Average the word vectors of the words from the i'th training example\n",
        "            # Use 'sentence_to_avg' you implemented above for this\n",
        "            avg = sentence_to_avg(X[i], word_to_vec_map)\n",
        "\n",
        "            # Forward propagate the avg through the softmax layer.\n",
        "            # You can use np.dot() to perform the multiplication.\n",
        "            z = np.dot(W,avg)+b\n",
        "            a = softmax(z)\n",
        "\n",
        "            # Add the cost using the i'th training label's one hot representation and \"A\" (the output of the softmax)\n",
        "            cost -= np.sum(Y_oh[i]*np.log(a))\n",
        "            ### END CODE HERE ###\n",
        "\n",
        "            # Compute gradients\n",
        "            dz = a - Y_oh[i]\n",
        "            dW += np.dot(dz.reshape(n_y,1), avg.reshape(1, n_h))\n",
        "            db += dz\n",
        "\n",
        "            # Update parameters with Stochastic Gradient Descent\n",
        "            W = W - learning_rate * dW\n",
        "            b = b - learning_rate * db\n",
        "\n",
        "        assert type(cost) == np.float64, \"Incorrect implementation of cost\"\n",
        "        assert cost.shape == (), \"Incorrect implementation of cost\"\n",
        "\n",
        "        if t % 100 == 0:\n",
        "            print(\"Epoch: \" + str(t) + \" --- cost = \" + str(cost))\n",
        "            pred = predict(X, Y, W, b, word_to_vec_map) #predict is defined in emo_utils.py\n",
        "\n",
        "    return pred, W, b"
      ]
    },
    {
      "cell_type": "code",
      "execution_count": 19,
      "metadata": {
        "deletable": false,
        "editable": false,
        "id": "XLgTbQW-nCYV",
        "outputId": "779a54d1-f1d7-4708-a4e6-c451da557314",
        "colab": {
          "base_uri": "https://localhost:8080/"
        }
      },
      "outputs": [
        {
          "output_type": "stream",
          "name": "stdout",
          "text": [
            "Epoch: 0 --- cost = 2.603378473480253\n",
            "Accuracy: 91.67%\n",
            "Epoch: 100 --- cost = 0.4732825238878883\n",
            "Accuracy: 100.00%\n",
            "\u001b[92mAll tests passed!\n"
          ]
        }
      ],
      "source": [
        "### YOU CANNOT EDIT THIS CELL\n",
        "\n",
        "# UNIT TEST\n",
        "def model_test(target):\n",
        "    # Create a controlled word to vec map\n",
        "    word_to_vec_map = {'a': [3, 3], 'synonym_of_a': [3, 3], 'a_nw': [2, 4], 'a_s': [3, 2], 'a_n': [3, 4],\n",
        "                       'c': [-2, 1], 'c_n': [-2, 2],'c_ne': [-1, 2], 'c_e': [-1, 1], 'c_se': [-1, 0],\n",
        "                       'c_s': [-2, 0], 'c_sw': [-3, 0], 'c_w': [-3, 1], 'c_nw': [-3, 2]\n",
        "                      }\n",
        "    # Convert lists to np.arrays\n",
        "    for key in word_to_vec_map.keys():\n",
        "        word_to_vec_map[key] = np.array(word_to_vec_map[key])\n",
        "\n",
        "    # Training set. Sentences composed of a_* words will be of class 0 and sentences composed of c_* words will be of class 1\n",
        "    X = np.asarray(['a a_s synonym_of_a a_n c_sw', 'a a_s a_n c_sw', 'a_s  a a_n', 'synonym_of_a a a_s a_n c_sw', \" a_s a_n\",\n",
        "                    \" a a_s a_n c \", \" a_n  a c c c_e missing\",\n",
        "                   'c c_nw c_n c c_ne', 'c_e c c_se c_s', 'c_nw c a_s c_e c_e', 'c_e a_nw c_sw', 'c_sw c c_ne c_ne'])\n",
        "\n",
        "    Y = np.asarray([0, 0, 0, 0, 0, 0, 1, 1, 1, 1, 1, 1])\n",
        "\n",
        "    np.random.seed(10)\n",
        "    pred, W, b = model(X, Y, word_to_vec_map, 0.0025, 110)\n",
        "\n",
        "    assert W.shape == (2, 2), \"W must be of shape 2 x 2\"\n",
        "    assert np.allclose(pred.transpose(), Y), \"Model must give a perfect accuracy\"\n",
        "    assert np.allclose(b[0], -1 * b[1]), \"b should be symmetric in this example\"\n",
        "\n",
        "    print(\"\\033[92mAll tests passed!\")\n",
        "\n",
        "model_test(model)"
      ]
    },
    {
      "cell_type": "markdown",
      "metadata": {
        "id": "KvdG05pgcFIw"
      },
      "source": [
        "Run the next cell to train your model and learn the softmax parameters (W, b)."
      ]
    },
    {
      "cell_type": "code",
      "execution_count": 20,
      "metadata": {
        "colab": {
          "base_uri": "https://localhost:8080/"
        },
        "id": "umWTqRcpcFIw",
        "outputId": "177a5a03-7cd9-4e88-b188-aebd355f42b5",
        "scrolled": true
      },
      "outputs": [
        {
          "output_type": "stream",
          "name": "stdout",
          "text": [
            "Epoch: 0 --- cost = 410.4336578831471\n",
            "Accuracy: 54.55%\n",
            "Epoch: 100 --- cost = 38.01659865970145\n",
            "Accuracy: 96.21%\n",
            "Epoch: 200 --- cost = 0.7067545035991784\n",
            "Accuracy: 100.00%\n",
            "Epoch: 300 --- cost = 0.292259783209285\n",
            "Accuracy: 100.00%\n"
          ]
        }
      ],
      "source": [
        "np.random.seed(1)\n",
        "pred, W, b = model(X_train, Y_train, word_to_vec_map)\n",
        "# print(pred)"
      ]
    },
    {
      "cell_type": "markdown",
      "metadata": {
        "id": "ygumNDIUcFIx"
      },
      "source": [
        "Great! Now see how it does on the test set:"
      ]
    },
    {
      "cell_type": "markdown",
      "metadata": {
        "id": "O862gcUicFIx"
      },
      "source": [
        "<a name='1-5'></a>\n",
        "### 1.5 - Examining Test Set Performance\n",
        "\n",
        "Note that the `predict` function used here is defined in `emo_util.py`."
      ]
    },
    {
      "cell_type": "code",
      "execution_count": 21,
      "metadata": {
        "colab": {
          "base_uri": "https://localhost:8080/"
        },
        "id": "yhb6CzhrcFIx",
        "outputId": "a258320e-a445-4e5e-aa05-b548df0689c7",
        "scrolled": false
      },
      "outputs": [
        {
          "output_type": "stream",
          "name": "stdout",
          "text": [
            "Training set:\n",
            "Accuracy: 100.00%\n",
            "Test set:\n",
            "Accuracy: 89.29%\n"
          ]
        }
      ],
      "source": [
        "print(\"Training set:\")\n",
        "pred_train = predict(X_train, Y_train, W, b, word_to_vec_map)\n",
        "print('Test set:')\n",
        "pred_test = predict(X_test, Y_test, W, b, word_to_vec_map)"
      ]
    },
    {
      "cell_type": "markdown",
      "metadata": {
        "id": "hwmrm-aDcFIy"
      },
      "source": [
        "**Note**:\n",
        "* Random guessing would have had 20% accuracy, given that there are 5 classes. (1/5 = 20%).\n",
        "* This is pretty good performance after training on only 127 examples.\n",
        "\n",
        "\n",
        "#### The Model Matches Emojis to Relevant Words\n",
        "In the training set, the algorithm saw the sentence\n",
        ">\"I love you.\"\n",
        "\n",
        "with the label ❤️.\n",
        "* You can check that the word \"treasure\" does not appear in the training set.\n",
        "* Nonetheless, let's see what happens if you write \"I treasure you.\""
      ]
    },
    {
      "cell_type": "code",
      "source": [
        "def print_predictions(X, pred):\n",
        "    \"\"\"\n",
        "    Prints sentences with their predicted emoji.\n",
        "\n",
        "    Args:\n",
        "        X -- list/array of sentences\n",
        "        pred -- array of predicted labels (integers)\n",
        "    \"\"\"\n",
        "    for i in range(len(X)):\n",
        "        print(X[i], \" -> \", label_to_emoji(int(pred[i])))\n"
      ],
      "metadata": {
        "id": "XgQ96K950WdV"
      },
      "execution_count": 22,
      "outputs": []
    },
    {
      "cell_type": "code",
      "execution_count": 23,
      "metadata": {
        "colab": {
          "base_uri": "https://localhost:8080/"
        },
        "id": "tvCl7fUvcFIz",
        "outputId": "5ce5ffd8-df11-40dd-94f6-65f28cf0afef"
      },
      "outputs": [
        {
          "output_type": "stream",
          "name": "stdout",
          "text": [
            "Accuracy: 83.33%\n",
            "i treasure you  ->  ❤️\n",
            "i love you  ->  ❤️\n",
            "funny lol  ->  😄\n",
            "lets play with a ball  ->  ⚾\n",
            "food is ready  ->  🍕\n",
            "today is not good  ->  😄\n"
          ]
        }
      ],
      "source": [
        "X_my_sentences = np.array([\"i treasure you\", \"i love you\", \"funny lol\", \"lets play with a ball\", \"food is ready\", \"today is not good\"])\n",
        "Y_my_labels = np.array([0, 0, 2, 1, 4, 3])\n",
        "\n",
        "pred = predict(X_my_sentences, Y_my_labels , W, b, word_to_vec_map)\n",
        "\n",
        "print_predictions(X_my_sentences, pred)"
      ]
    },
    {
      "cell_type": "markdown",
      "metadata": {
        "id": "ZyC-BGqKcFI0"
      },
      "source": [
        "Amazing!\n",
        "* Because *treasure* has a similar embedding as *love*, the algorithm has generalized correctly even to a word it has never seen before.\n",
        "* Words such as *heart*, *dear*, *beloved* or *adore* have embedding vectors similar to *love*.\n",
        "    * Feel free to modify the inputs above and try out a variety of input sentences.\n",
        "    * How well does it work?\n",
        "\n",
        "#### Word Ordering isn't Considered in this Model\n",
        "* Note that the model doesn't get the following sentence correct:\n",
        ">\"today is not good\"\n",
        "\n",
        "* This algorithm ignores word ordering, so is not good at understanding phrases like \"not good.\"\n",
        "\n",
        "#### Confusion Matrix\n",
        "* Printing the confusion matrix can also help understand which classes are more difficult for your model.\n",
        "* A confusion matrix shows how often an example whose label is one class (\"actual\" class) is mislabeled by the algorithm with a different class (\"predicted\" class).\n",
        "\n",
        "Print the confusion matrix below:"
      ]
    },
    {
      "cell_type": "code",
      "source": [
        "import matplotlib.pyplot as plt\n",
        "import numpy as np\n",
        "from sklearn.metrics import confusion_matrix\n",
        "\n",
        "# You can use words instead of emojis to avoid font issues\n",
        "class_labels = [\"Love\", \"Baseball\", \"Happy\", \"Sad\", \"Food\"]\n",
        "\n",
        "def plot_confusion_matrix(Y_true, Y_pred):\n",
        "    \"\"\"\n",
        "    Plots confusion matrix using only matplotlib (no seaborn)\n",
        "    \"\"\"\n",
        "    cm = confusion_matrix(Y_true, Y_pred)\n",
        "\n",
        "    fig, ax = plt.subplots(figsize=(6,6))\n",
        "    im = ax.imshow(cm, cmap='Blues')\n",
        "\n",
        "    # Add colorbar\n",
        "    cbar = ax.figure.colorbar(im, ax=ax)\n",
        "    cbar.ax.set_ylabel(\"Counts\", rotation=-90, va=\"bottom\")\n",
        "\n",
        "    # Set ticks and labels\n",
        "    ax.set_xticks(np.arange(len(class_labels)))\n",
        "    ax.set_yticks(np.arange(len(class_labels)))\n",
        "    ax.set_xticklabels(class_labels)\n",
        "    ax.set_yticklabels(class_labels)\n",
        "\n",
        "    # Rotate x labels\n",
        "    plt.setp(ax.get_xticklabels(), rotation=45, ha=\"right\", rotation_mode=\"anchor\")\n",
        "\n",
        "    # Loop over data to add text annotations\n",
        "    for i in range(cm.shape[0]):\n",
        "        for j in range(cm.shape[1]):\n",
        "            ax.text(j, i, cm[i, j], ha=\"center\", va=\"center\", color=\"black\")\n",
        "\n",
        "    ax.set_xlabel(\"Predicted\")\n",
        "    ax.set_ylabel(\"True\")\n",
        "    ax.set_title(\"Confusion Matrix\")\n",
        "    plt.tight_layout()\n",
        "    plt.show()\n",
        "\n"
      ],
      "metadata": {
        "id": "wZSDxKoD0krN"
      },
      "execution_count": 24,
      "outputs": []
    },
    {
      "cell_type": "code",
      "execution_count": 25,
      "metadata": {
        "colab": {
          "base_uri": "https://localhost:8080/",
          "height": 760
        },
        "id": "Ab9aH9IQcFI1",
        "outputId": "a2f1b3cf-20eb-4256-b980-ae2434ec0d8a"
      },
      "outputs": [
        {
          "output_type": "stream",
          "name": "stdout",
          "text": [
            "(56,)\n",
            "           ❤️    ⚾    😄    😢   🍕\n",
            "Predicted  0.0  1.0  2.0  3.0  4.0  All\n",
            "Actual                                 \n",
            "0            6    0    0    1    0    7\n",
            "1            0    8    0    0    0    8\n",
            "2            1    0   17    0    0   18\n",
            "3            2    0    2   12    0   16\n",
            "4            0    0    0    0    7    7\n",
            "All          9    8   19   13    7   56\n"
          ]
        },
        {
          "output_type": "display_data",
          "data": {
            "text/plain": [
              "<Figure size 600x600 with 2 Axes>"
            ],
            "image/png": "[encoded data removed]"
          },
          "metadata": {}
        }
      ],
      "source": [
        "# START SKIP FOR GRADING\n",
        "print(Y_test.shape)\n",
        "print('           '+ label_to_emoji(0)+ '    ' + label_to_emoji(1) + '    ' +  label_to_emoji(2)+ '    ' + label_to_emoji(3)+'   ' + label_to_emoji(4))\n",
        "print(pd.crosstab(Y_test, pred_test.reshape(56,), rownames=['Actual'], colnames=['Predicted'], margins=True))\n",
        "plot_confusion_matrix(Y_test, pred_test)\n",
        "# END SKIP FOR GRADING"
      ]
    },
    {
      "cell_type": "markdown",
      "metadata": {
        "id": "Zm2o8SQIcFI1"
      },
      "source": [
        "<font color='blue'><b>What you should remember:</b>\n",
        "- Even with a mere 127 training examples, you can get a reasonably good model for Emojifying.\n",
        "    - This is due to the generalization power word vectors gives you.\n",
        "- Emojify-V1 will perform poorly on sentences such as *\"This movie is not good and not enjoyable\"*\n",
        "    - It doesn't understand combinations of words.\n",
        "    - It just averages all the words' embedding vectors together, without considering the ordering of words.\n",
        "</font>\n",
        "    \n",
        "**Not to worry! You will build a better algorithm in the next section!**"
      ]
    },
    {
      "cell_type": "markdown",
      "metadata": {
        "id": "BEeTqpjlcFI2"
      },
      "source": [
        "<a name='2'></a>\n",
        "## 2 - Emojifier-V2: Using LSTMs in Keras\n",
        "\n",
        "You're going to build an LSTM model that takes word **sequences** as input! This model will be able to account for word ordering.\n",
        "\n",
        "Emojifier-V2 will continue to use pre-trained word embeddings to represent words. You'll feed word embeddings into an LSTM, and the LSTM will learn to predict the most appropriate emoji."
      ]
    },
    {
      "cell_type": "markdown",
      "metadata": {
        "id": "CPIihtFVFEbz"
      },
      "source": [
        "### Packages\n",
        "\n",
        "Run the following cell to load the Keras packages you'll need:"
      ]
    },
    {
      "cell_type": "code",
      "execution_count": 26,
      "metadata": {
        "id": "uZ-fy9fYcFI3"
      },
      "outputs": [],
      "source": [
        "import numpy as np\n",
        "import tensorflow\n",
        "np.random.seed(0)\n",
        "from tensorflow.keras.models import Model\n",
        "from tensorflow.keras.layers import Dense, Input, Dropout, LSTM, Activation\n",
        "from tensorflow.keras.layers import Embedding\n",
        "from tensorflow.keras.preprocessing import sequence\n",
        "from tensorflow.keras.initializers import glorot_uniform\n",
        "np.random.seed(1)"
      ]
    },
    {
      "cell_type": "markdown",
      "metadata": {
        "id": "P7LJvriXcFI3"
      },
      "source": [
        "<a name='2-1'></a>\n",
        "### 2.1 - Model Overview\n",
        "\n",
        "Here is the Emojifier-v2 you will implement:\n",
        "\n",
        "<img src=\"images/emojifier-v2.png\" style=\"width:700px;height:400px;\"> <br>\n",
        "<caption><center><font color='purple'><b>Figure 3</b>: Emojifier-V2. A 2-layer LSTM sequence classifier. </center></caption>"
      ]
    },
    {
      "cell_type": "markdown",
      "metadata": {
        "id": "-3W3WTbpcFI3"
      },
      "source": [
        "<a name='2-2'></a>\n",
        "### 2.2 Keras and Mini-batching\n",
        "\n",
        "In this exercise, you want to train Keras using mini-batches. However, most deep learning frameworks require that all sequences in the same mini-batch have the **same length**.\n",
        "\n",
        "This is what allows vectorization to work: If you had a 3-word sentence and a 4-word sentence, then the computations needed for them are different (one takes 3 steps of an LSTM, one takes 4 steps) so it's just not possible to do them both at the same time.\n",
        "    \n",
        "#### Padding Handles Sequences of Varying Length\n",
        "* The common solution to handling sequences of **different length** is to use padding.  Specifically:\n",
        "    * Set a maximum sequence length\n",
        "    * Pad all sequences to have the same length.\n",
        "    \n",
        "#### Example of Padding:\n",
        "* Given a maximum sequence length of 20, you could pad every sentence with \"0\"s so that each input sentence is of length 20.\n",
        "* Thus, the sentence \"I love you\" would be represented as $(e_{I}, e_{love}, e_{you}, \\vec{0}, \\vec{0}, \\ldots, \\vec{0})$.\n",
        "* In this example, any sentences longer than 20 words would have to be truncated.\n",
        "* One way to choose the maximum sequence length is to just pick the length of the longest sentence in the training set."
      ]
    },
    {
      "cell_type": "markdown",
      "metadata": {
        "id": "QuwbNWS0cFI4"
      },
      "source": [
        "<a name='2-3'></a>\n",
        "### 2.3 - The Embedding Layer\n",
        "\n",
        "In Keras, the embedding matrix is represented as a \"layer.\"\n",
        "\n",
        "* The embedding matrix maps word indices to embedding vectors.\n",
        "    * The word indices are positive integers.\n",
        "    * The embedding vectors are dense vectors of fixed size.\n",
        "    * A \"dense\" vector is the opposite of a sparse vector. It means that most of its values are non-zero.  As a counter-example, a one-hot encoded vector is not \"dense.\"\n",
        "* The embedding matrix can be derived in two ways:\n",
        "    * Training a model to derive the embeddings from scratch.\n",
        "    * Using a pretrained embedding.\n",
        "    \n",
        "#### Using and Updating Pre-trained Embeddings\n",
        "In this section, you'll create an [Embedding()](https://www.tensorflow.org/api_docs/python/tf/keras/layers/Embedding) layer in Keras\n",
        "\n",
        "* You will initialize the Embedding layer with GloVe 50-dimensional vectors.\n",
        "* In the code below, you'll observe how Keras allows you to either train or leave this layer fixed.  \n",
        "    * Because your training set is quite small, you'll leave the GloVe embeddings fixed instead of updating them."
      ]
    },
    {
      "cell_type": "markdown",
      "metadata": {
        "id": "zhyVzuThcFI4"
      },
      "source": [
        "#### Inputs and Outputs to the Embedding Layer\n",
        "\n",
        "* The `Embedding()` layer's input is an integer matrix of size **(batch size, max input length)**.\n",
        "    * This input corresponds to sentences converted into lists of indices (integers).\n",
        "    * The largest integer (the highest word index) in the input should be no larger than the vocabulary size.\n",
        "* The embedding layer outputs an array of shape (batch size, max input length, dimension of word vectors).\n",
        "\n",
        "* The figure shows the propagation of two example sentences through the embedding layer.\n",
        "    * Both examples have been zero-padded to a length of `max_len=5`.\n",
        "    * The word embeddings are 50 units in length.\n",
        "    * The final dimension of the representation is  `(2,max_len,50)`.\n",
        "\n",
        "<img src=\"images/embedding1.png\" style=\"width:700px;height:250px;\">\n",
        "<caption><center><font color='purple'><b>Figure 4</b>: Embedding layer</center></caption>"
      ]
    },
    {
      "cell_type": "markdown",
      "metadata": {
        "id": "KnoTtNWBcFI5"
      },
      "source": [
        "#### Prepare the Input Sentences\n",
        "\n",
        "<a name='ex-3'></a>\n",
        "### Exercise 3 - sentences_to_indices\n",
        "\n",
        "Implement `sentences_to_indices`\n",
        "\n",
        "This function processes an array of sentences X and returns inputs to the embedding layer:\n",
        "\n",
        "* Convert each of the training sentences into a list of indices (the indices correspond to each word in the sentence)\n",
        "* Zero-pad all these lists so that their length is the length of the longest sentence.\n",
        "    \n",
        "#### Additional Hints:\n",
        "* Note that you may have considered using the `enumerate()` function in the for loop, but for the purposes of passing the autograder, please follow the starter code by initializing and incrementing `j` explicitly."
      ]
    },
    {
      "cell_type": "code",
      "execution_count": 27,
      "metadata": {
        "colab": {
          "base_uri": "https://localhost:8080/"
        },
        "id": "8cMm64iWcFI5",
        "outputId": "4d5a7588-9afc-4f7d-92f9-0f2deb7248ec"
      },
      "outputs": [
        {
          "output_type": "stream",
          "name": "stdout",
          "text": [
            "0 I\n",
            "1 like\n",
            "2 learning\n"
          ]
        }
      ],
      "source": [
        "for idx, val in enumerate([\"I\", \"like\", \"learning\"]):\n",
        "    print(idx, val)"
      ]
    },
    {
      "cell_type": "code",
      "execution_count": 28,
      "metadata": {
        "id": "Z0SixlIwcFI5"
      },
      "outputs": [],
      "source": [
        "# UNQ_C3 (UNIQUE CELL IDENTIFIER, DO NOT EDIT)\n",
        "# GRADED FUNCTION: sentences_to_indices\n",
        "\n",
        "def sentences_to_indices(X, word_to_index, max_len):\n",
        "    \"\"\"\n",
        "    Converts an array of sentences (strings) into an array of indices corresponding to words in the sentences.\n",
        "    The output shape should be such that it can be given to `Embedding()` (described in Figure 4).\n",
        "\n",
        "    Arguments:\n",
        "    X -- array of sentences (strings), of shape (m,)\n",
        "    word_to_index -- a dictionary containing the each word mapped to its index\n",
        "    max_len -- maximum number of words in a sentence. You can assume every sentence in X is no longer than this.\n",
        "\n",
        "    Returns:\n",
        "    X_indices -- array of indices corresponding to words in the sentences from X, of shape (m, max_len)\n",
        "    \"\"\"\n",
        "\n",
        "    m = X.shape[0]                                   # number of training examples\n",
        "\n",
        "    ### START CODE HERE ###\n",
        "    # Initialize X_indices as a numpy matrix of zeros and the correct shape (≈ 1 line)\n",
        "    X_indices = np.zeros((m,max_len))\n",
        "\n",
        "    for i in range(m):                               # loop over training examples\n",
        "\n",
        "        # Convert the ith training sentence to lower case and split it into words. You should get a list of words.\n",
        "        sentence_words = X[i].lower().split()\n",
        "\n",
        "        # Initialize j to 0\n",
        "        j = 0\n",
        "\n",
        "        # Loop over the words of sentence_words\n",
        "\n",
        "        for w in sentence_words:\n",
        "            # if w exists in the word_to_index dictionary\n",
        "            if w in word_to_index:\n",
        "                # Set the (i,j)th entry of X_indices to the index of the correct word.\n",
        "                X_indices[i, j] = word_to_index[w]\n",
        "                # Increment j to j + 1\n",
        "                j += 1\n",
        "\n",
        "    ### END CODE HERE ###\n",
        "\n",
        "    return X_indices"
      ]
    },
    {
      "cell_type": "code",
      "execution_count": 29,
      "metadata": {
        "deletable": false,
        "editable": false,
        "id": "jImc-WCunCYv",
        "outputId": "5397c6f6-42ff-4aad-b654-414f52a3bf5a",
        "colab": {
          "base_uri": "https://localhost:8080/"
        }
      },
      "outputs": [
        {
          "output_type": "stream",
          "name": "stdout",
          "text": [
            "[[1. 2. 4. 3.]\n",
            " [4. 8. 6. 5.]\n",
            " [5. 3. 7. 0.]\n",
            " [0. 0. 0. 0.]]\n",
            "\u001b[92mAll tests passed!\n"
          ]
        }
      ],
      "source": [
        "### YOU CANNOT EDIT THIS CELL\n",
        "\n",
        "# UNIT TEST\n",
        "def sentences_to_indices_test(target):\n",
        "\n",
        "    # Create a word_to_index dictionary\n",
        "    word_to_index = {}\n",
        "    for idx, val in enumerate([\"i\", \"like\", \"learning\", \"deep\", \"machine\", \"love\", \"smile\", '´0.=']):\n",
        "        word_to_index[val] = idx + 1;\n",
        "\n",
        "    max_len = 4\n",
        "    sentences = np.array([\"I like deep learning\", \"deep ´0.= love machine\", \"machine learning smile\", \"$\"]);\n",
        "    indexes = target(sentences, word_to_index, max_len)\n",
        "    print(indexes)\n",
        "\n",
        "    assert type(indexes) == np.ndarray, \"Wrong type. Use np arrays in the function\"\n",
        "    assert indexes.shape == (sentences.shape[0], max_len), \"Wrong shape of ouput matrix\"\n",
        "    assert np.allclose(indexes, [[1, 2, 4, 3],\n",
        "                                 [4, 8, 6, 5],\n",
        "                                 [5, 3, 7, 0],\n",
        "                                 [0, 0, 0, 0]]), \"Wrong values. Debug with the given examples\"\n",
        "\n",
        "    print(\"\\033[92mAll tests passed!\")\n",
        "\n",
        "sentences_to_indices_test(sentences_to_indices)"
      ]
    },
    {
      "cell_type": "markdown",
      "metadata": {
        "id": "RfBGZ2STnCYw"
      },
      "source": [
        "**Expected value**\n",
        "\n",
        "```\n",
        "[[1. 2. 4. 3.]\n",
        " [4. 8. 6. 5.]\n",
        " [5. 3. 7. 0.]\n",
        " [0. 0. 0. 0.]]\n",
        "```"
      ]
    },
    {
      "cell_type": "markdown",
      "metadata": {
        "id": "reyHmseecFI6"
      },
      "source": [
        "Run the following cell to check what `sentences_to_indices()` does, and take a look at your results."
      ]
    },
    {
      "cell_type": "code",
      "execution_count": 30,
      "metadata": {
        "colab": {
          "base_uri": "https://localhost:8080/"
        },
        "id": "oBL1PMOCcFI6",
        "outputId": "d2bd7f12-5e60-42f5-dda0-85fd17e679a6"
      },
      "outputs": [
        {
          "output_type": "stream",
          "name": "stdout",
          "text": [
            "X1 = ['funny lol' 'lets play baseball' 'food is ready for you']\n",
            "X1_indices =\n",
            " [[155345. 225122.      0.      0.      0.]\n",
            " [220930. 286375.  69714.      0.      0.]\n",
            " [151204. 192973. 302254. 151349. 394475.]]\n"
          ]
        }
      ],
      "source": [
        "X1 = np.array([\"funny lol\", \"lets play baseball\", \"food is ready for you\"])\n",
        "X1_indices = sentences_to_indices(X1, word_to_index, max_len=5)\n",
        "print(\"X1 =\", X1)\n",
        "print(\"X1_indices =\\n\", X1_indices)"
      ]
    },
    {
      "cell_type": "markdown",
      "metadata": {
        "id": "0OJPAEM5cFI6"
      },
      "source": [
        "#### Build Embedding Layer\n",
        "\n",
        "Now you'll build the `Embedding()` layer in Keras, using pre-trained word vectors.\n",
        "\n",
        "* The embedding layer takes as input a list of word indices.\n",
        "    * `sentences_to_indices()` creates these word indices.\n",
        "* The embedding layer will return the word embeddings for a sentence.\n",
        "\n",
        "<a name='ex-4'></a>\n",
        "### Exercise 4 - pretrained_embedding_layer\n",
        "\n",
        "Implement `pretrained_embedding_layer()` with these steps:\n",
        "\n",
        "1. Initialize the embedding matrix as a numpy array of zeros.\n",
        "    * The embedding matrix has a row for each unique word in the vocabulary.\n",
        "        * There is one additional row to handle \"unknown\" words.\n",
        "        * So vocab_size is the number of unique words plus one.\n",
        "    * Each row will store the vector representation of one word.\n",
        "        * For example, one row may be 50 positions long if using GloVe word vectors.\n",
        "    * In the code below, `emb_dim` represents the length of a word embedding.\n",
        "2. Fill in each row of the embedding matrix with the vector representation of a word\n",
        "    * Each word in `word_to_index` is a string.\n",
        "    * word_to_vec_map is a dictionary where the keys are strings and the values are the word vectors.\n",
        "3. Define the Keras embedding layer.\n",
        "    * Use [Embedding()](https://www.tensorflow.org/api_docs/python/tf/keras/layers/Embedding).\n",
        "    * The input dimension is equal to the vocabulary length (number of unique words plus one).\n",
        "    * The output dimension is equal to the number of positions in a word embedding.\n",
        "    * Make this layer's embeddings fixed.\n",
        "        * If you were to set `trainable = True`, then it will allow the optimization algorithm to modify the values of the word embeddings.\n",
        "        * In this case, you don't want the model to modify the word embeddings.\n",
        "4. Set the embedding weights to be equal to the embedding matrix.\n",
        "    * Note that this is part of the code is already completed for you and does not need to be modified!"
      ]
    },
    {
      "cell_type": "code",
      "execution_count": 31,
      "metadata": {
        "id": "XBlEpiVkcFI7"
      },
      "outputs": [],
      "source": [
        "# UNQ_C4 (UNIQUE CELL IDENTIFIER, DO NOT EDIT)\n",
        "# GRADED FUNCTION: pretrained_embedding_layer\n",
        "\n",
        "def pretrained_embedding_layer(word_to_vec_map, word_to_index):\n",
        "    \"\"\"\n",
        "    Creates a Keras Embedding() layer and loads in pre-trained GloVe 50-dimensional vectors.\n",
        "\n",
        "    Arguments:\n",
        "    word_to_vec_map -- dictionary mapping words to their GloVe vector representation.\n",
        "    word_to_index -- dictionary mapping from words to their indices in the vocabulary (400,001 words)\n",
        "\n",
        "    Returns:\n",
        "    embedding_layer -- pretrained layer Keras instance\n",
        "    \"\"\"\n",
        "\n",
        "    vocab_size = len(word_to_index) + 1              # adding 1 to fit Keras embedding (requirement)\n",
        "    any_word = next(iter(word_to_vec_map.keys()))\n",
        "    emb_dim = word_to_vec_map[any_word].shape[0]    # define dimensionality of your GloVe word vectors (= 50)\n",
        "\n",
        "    ### START CODE HERE ###\n",
        "    # Step 1\n",
        "    # Initialize the embedding matrix as a numpy array of zeros.\n",
        "    # See instructions above to choose the correct shape.\n",
        "    emb_matrix = np.zeros((vocab_size,emb_dim))\n",
        "\n",
        "    # Step 2\n",
        "    # Set each row \"idx\" of the embedding matrix to be\n",
        "    # the word vector representation of the idx'th word of the vocabulary\n",
        "    for word, idx in word_to_index.items():\n",
        "        # emb_matrix[idx, :] = word_to_vec_map[word]\n",
        "        if word in word_to_vec_map:\n",
        "            vec = word_to_vec_map[word]\n",
        "            if vec.shape[0] == emb_dim:  # only add if dimensions match\n",
        "                emb_matrix[idx, :] = vec\n",
        "\n",
        "    # Step 3\n",
        "    # Define Keras embedding layer with the correct input and output sizes\n",
        "    # Make it non-trainable.\n",
        "    embedding_layer = Embedding(\n",
        "                        vocab_size,emb_dim,trainable=False\n",
        "    )\n",
        "    ### END CODE HERE ###\n",
        "\n",
        "    # Step 4 (already done for you; please do not modify)\n",
        "    # Build the embedding layer, it is required before setting the weights of the embedding layer.\n",
        "    embedding_layer.build((None,)) # Do not modify the \"None\".  This line of code is complete as-is.\n",
        "\n",
        "    # Set the weights of the embedding layer to the embedding matrix. Your layer is now pretrained.\n",
        "    embedding_layer.set_weights([emb_matrix])\n",
        "\n",
        "    return embedding_layer"
      ]
    },
    {
      "cell_type": "code",
      "execution_count": 32,
      "metadata": {
        "deletable": false,
        "editable": false,
        "id": "RK8W-DXcnCYx",
        "outputId": "d18efcf4-661e-4a98-9180-e663e6c8ae8e",
        "colab": {
          "base_uri": "https://localhost:8080/"
        }
      },
      "outputs": [
        {
          "output_type": "stream",
          "name": "stdout",
          "text": [
            "\u001b[92mAll tests passed!\n"
          ]
        }
      ],
      "source": [
        "### YOU CANNOT EDIT THIS CELL\n",
        "\n",
        "# UNIT TEST\n",
        "def pretrained_embedding_layer_test(target):\n",
        "    # Create a controlled word to vec map\n",
        "    word_to_vec_map = {'a': [3, 3], 'synonym_of_a': [3, 3], 'a_nw': [2, 4], 'a_s': [3, 2], 'a_n': [3, 4],\n",
        "                       'c': [-2, 1], 'c_n': [-2, 2],'c_ne': [-1, 2], 'c_e': [-1, 1], 'c_se': [-1, 0],\n",
        "                       'c_s': [-2, 0], 'c_sw': [-3, 0], 'c_w': [-3, 1], 'c_nw': [-3, 2]\n",
        "                      }\n",
        "    # Convert lists to np.arrays\n",
        "    for key in word_to_vec_map.keys():\n",
        "        word_to_vec_map[key] = np.array(word_to_vec_map[key])\n",
        "\n",
        "    # Create a word_to_index dictionary\n",
        "    word_to_index = {}\n",
        "    for idx, val in enumerate(list(word_to_vec_map.keys())):\n",
        "        word_to_index[val] = idx;\n",
        "\n",
        "    np.random.seed(1)\n",
        "    embedding_layer = target(word_to_vec_map, word_to_index)\n",
        "\n",
        "    assert type(embedding_layer) == Embedding, \"Wrong type\"\n",
        "    assert embedding_layer.input_dim == len(list(word_to_vec_map.keys())) + 1, \"Wrong input shape\"\n",
        "    assert embedding_layer.output_dim == len(word_to_vec_map['a']), \"Wrong output shape\"\n",
        "    assert np.allclose(embedding_layer.get_weights(),\n",
        "                       [[[ 3, 3], [ 3, 3], [ 2, 4], [ 3, 2], [ 3, 4],\n",
        "                       [-2, 1], [-2, 2], [-1, 2], [-1, 1], [-1, 0],\n",
        "                       [-2, 0], [-3, 0], [-3, 1], [-3, 2], [ 0, 0]]]), \"Wrong vaulues\"\n",
        "    print(\"\\033[92mAll tests passed!\")\n",
        "\n",
        "\n",
        "pretrained_embedding_layer_test(pretrained_embedding_layer)"
      ]
    },
    {
      "cell_type": "code",
      "execution_count": 33,
      "metadata": {
        "colab": {
          "base_uri": "https://localhost:8080/"
        },
        "id": "Gn4iGb0AcFI7",
        "outputId": "d49134d3-81a2-46ee-b686-848acaf353e8"
      },
      "outputs": [
        {
          "output_type": "stream",
          "name": "stdout",
          "text": [
            "weights[0][1][1] = 0.39031\n",
            "Input_dim 400001\n",
            "Output_dim 50\n"
          ]
        }
      ],
      "source": [
        "embedding_layer = pretrained_embedding_layer(word_to_vec_map, word_to_index)\n",
        "print(\"weights[0][1][1] =\", embedding_layer.get_weights()[0][1][1])\n",
        "print(\"Input_dim\", embedding_layer.input_dim)\n",
        "print(\"Output_dim\",embedding_layer.output_dim)"
      ]
    },
    {
      "cell_type": "markdown",
      "metadata": {
        "id": "uEsWnZ_2cFI7"
      },
      "source": [
        "<a name='2-4'></a>\n",
        "### 2.4 - Building the Emojifier-V2\n",
        "\n",
        "Now you're ready to build the Emojifier-V2 model, in which you feed the embedding layer's output to an LSTM network!\n",
        "\n",
        "<img src=\"images/emojifier-v2.png\" style=\"width:700px;height:400px;\"> <br>\n",
        "<caption><center><font color='purple'><b>Figure 3</b>: Emojifier-v2. A 2-layer LSTM sequence classifier. </center></caption></font>\n",
        "\n",
        "\n",
        "<a name='ex-5'></a>\n",
        "### Exercise 5 - Emojify_V2\n",
        "\n",
        "Implement `Emojify_V2()`\n",
        "\n",
        "This function builds a Keras graph of the architecture shown in Figure (3).\n",
        "\n",
        "* The model takes as input an array of sentences of shape (`m`, `max_len`, ) defined by `input_shape`.\n",
        "* The model outputs a softmax probability vector of shape (`m`, `C = 5`).\n",
        "\n",
        "* You may need to use the following Keras layers:\n",
        "    * [Input()](https://www.tensorflow.org/api_docs/python/tf/keras/Input)\n",
        "        * Set the `shape` and `dtype` parameters.\n",
        "        * The inputs are integers, so you can specify the data type as a string, 'int32'.\n",
        "    * [LSTM()](https://www.tensorflow.org/api_docs/python/tf/keras/layers/LSTM)\n",
        "        * Set the `units` and `return_sequences` parameters.\n",
        "    * [Dropout()](https://www.tensorflow.org/api_docs/python/tf/keras/layers/Dropout)\n",
        "        * Set the `rate` parameter.\n",
        "    * [Dense()](https://www.tensorflow.org/api_docs/python/tf/keras/layers/Dense)\n",
        "        * Set the `units`,\n",
        "        * Note that `Dense()` has an `activation` parameter.  For the purposes of passing the autograder, please do not set the activation within `Dense()`.  Use the separate `Activation` layer to do so.\n",
        "    * [Activation()](https://www.tensorflow.org/api_docs/python/tf/keras/layers/Activation)\n",
        "        * You can pass in the activation of your choice as a lowercase string.\n",
        "    * [Model()](https://www.tensorflow.org/api_docs/python/tf/keras/Model)\n",
        "        * Set `inputs` and `outputs`.\n",
        "\n",
        "\n",
        "#### Additional Hints\n",
        "* Remember that these Keras layers return an object, and you will feed in the outputs of the previous layer as the input arguments to that object.  The returned object can be created and called in the same line.\n",
        "\n",
        "```Python\n",
        "# How to use Keras layers in two lines of code\n",
        "dense_object = Dense(units = ...)\n",
        "X = dense_object(inputs)\n",
        "\n",
        "# How to use Keras layers in one line of code\n",
        "X = Dense(units = ...)(inputs)\n",
        "```\n",
        "\n",
        "* The `embedding_layer` that is returned by `pretrained_embedding_layer` is a layer object that can be called as a function, passing in a single argument (sentence indices).\n",
        "\n",
        "* Here is some sample code in case you're stuck: 😊\n",
        "```Python\n",
        "raw_inputs = Input(shape=(maxLen,), dtype='int32')\n",
        "preprocessed_inputs = ... # some pre-processing\n",
        "X = LSTM(units = ..., return_sequences= ...)(processed_inputs)\n",
        "X = Dropout(rate = ..., )(X)\n",
        "...\n",
        "X = Dense(units = ...)(X)\n",
        "X = Activation(...)(X)\n",
        "model = Model(inputs=..., outputs=...)\n",
        "...\n",
        "```"
      ]
    },
    {
      "cell_type": "code",
      "execution_count": 35,
      "metadata": {
        "id": "Pb2ugsSUcFI7"
      },
      "outputs": [],
      "source": [
        "# UNQ_C5 (UNIQUE CELL IDENTIFIER, DO NOT EDIT)\n",
        "# GRADED FUNCTION: Emojify_V2\n",
        "# assert isinstance(model, Model), \"Make sure you have correctly created Model instance which converts sentence_indices into X\"\n",
        "def Emojify_V2(input_shape, word_to_vec_map, word_to_index):\n",
        "    \"\"\"\n",
        "    Function creating the Emojify-v2 model's graph.\n",
        "\n",
        "    Arguments:\n",
        "    input_shape -- shape of the input, usually (max_len,)\n",
        "    word_to_vec_map -- dictionary mapping every word in a vocabulary into its 50-dimensional vector representation\n",
        "    word_to_index -- dictionary mapping from words to their indices in the vocabulary (400,001 words)\n",
        "\n",
        "    Returns:\n",
        "    model -- a model instance in Keras\n",
        "    \"\"\"\n",
        "\n",
        "    ### START CODE HERE ###\n",
        "    # Define sentence_indices as the input of the graph.\n",
        "    # It should be of shape input_shape and dtype 'int32' (as it contains indices, which are integers).\n",
        "    sentence_indices = Input(shape=input_shape, dtype='int32')\n",
        "\n",
        "    # Create the embedding layer pretrained with GloVe Vectors (≈1 line)\n",
        "    embedding_layer = pretrained_embedding_layer(word_to_vec_map, word_to_index)\n",
        "\n",
        "    # Propagate sentence_indices through your embedding layer\n",
        "    # (See additional hints in the instructions).\n",
        "    embeddings = embedding_layer(sentence_indices)\n",
        "\n",
        "    # Propagate the embeddings through an LSTM layer with 128-dimensional hidden state\n",
        "    # The returned output should be a batch of sequences.\n",
        "    X = LSTM(128, return_sequences=True)(embeddings)\n",
        "    # Add dropout with a probability of 0.5\n",
        "    X = Dropout(0.5)(X)\n",
        "    # Propagate X trough another LSTM layer with 128-dimensional hidden state\n",
        "    # The returned output should be a single hidden state, not a batch of sequences.\n",
        "    X = LSTM(128, return_sequences=False)(X)\n",
        "    # Add dropout with a probability of 0.5\n",
        "    X = Dropout(0.5)(X)\n",
        "    # Propagate X through a Dense layer with 5 units\n",
        "    X = Dense(5)(X)\n",
        "    # Add a softmax activation\n",
        "    X = Activation('softmax')(X)\n",
        "\n",
        "    # Create Model instance which converts sentence_indices into X.\n",
        "    model = Model(inputs=sentence_indices, outputs=X)\n",
        "\n",
        "    ### END CODE HERE ###\n",
        "\n",
        "    return model"
      ]
    },
    {
      "cell_type": "code",
      "execution_count": 36,
      "metadata": {
        "deletable": false,
        "editable": false,
        "id": "pfPcmSSFnCYy",
        "outputId": "b7fc350b-5fa0-48ec-8c55-8fe5c22dfe61",
        "colab": {
          "base_uri": "https://localhost:8080/"
        }
      },
      "outputs": [
        {
          "output_type": "stream",
          "name": "stdout",
          "text": [
            "\u001b[92mAll tests passed!\n"
          ]
        }
      ],
      "source": [
        "### YOU CANNOT EDIT THIS CELL\n",
        "\n",
        "# UNIT TEST\n",
        "from tensorflow.python.keras.engine.functional import Functional\n",
        "\n",
        "def Emojify_V2_test(target):\n",
        "    # Create a controlled word to vec map\n",
        "    word_to_vec_map = {'a': [3, 3], 'synonym_of_a': [3, 3], 'a_nw': [2, 4], 'a_s': [3, 2], 'a_n': [3, 4],\n",
        "                       'c': [-2, 1], 'c_n': [-2, 2],'c_ne': [-1, 2], 'c_e': [-1, 1], 'c_se': [-1, 0],\n",
        "                       'c_s': [-2, 0], 'c_sw': [-3, 0], 'c_w': [-3, 1], 'c_nw': [-3, 2]\n",
        "                      }\n",
        "    # Convert lists to np.arrays\n",
        "    for key in word_to_vec_map.keys():\n",
        "        word_to_vec_map[key] = np.array(word_to_vec_map[key])\n",
        "\n",
        "    # Create a word_to_index dictionary\n",
        "    word_to_index = {}\n",
        "    for idx, val in enumerate(list(word_to_vec_map.keys())):\n",
        "        word_to_index[val] = idx;\n",
        "\n",
        "    maxLen = 4\n",
        "    model = target((maxLen,), word_to_vec_map, word_to_index)\n",
        "\n",
        "    # assert type(model) == Functional, \"Make sure you have correctly created Model instance which converts \\\"sentence_indices\\\" into \\\"X\\\"\"\n",
        "\n",
        "    # expectedModel = [['InputLayer', [(None, 4)], 0], ['Embedding', (None, 4, 2), 30], ['LSTM', (None, 4, 128), 67072, (None, 4, 2), 'tanh', True], ['Dropout', (None, 4, 128), 0, 0.5], ['LSTM', (None, 128), 131584, (None, 4, 128), 'tanh', False], ['Dropout', (None, 128), 0, 0.5], ['Dense', (None, 5), 645, 'linear'], ['Activation', (None, 5), 0]]\n",
        "    # comparator(summary(model), expectedModel)\n",
        "\n",
        "    # Keep these assertions as they are more robust checks of the model's structure\n",
        "    embedding_layer = model.layers[1] # Assuming embedding layer is the second layer\n",
        "    assert type(embedding_layer) == Embedding, \"The second layer should be an Embedding layer\"\n",
        "    assert embedding_layer.input_dim == len(list(word_to_vec_map.keys())) + 1, \"Wrong input shape for Embedding layer\"\n",
        "    assert embedding_layer.output_dim == len(word_to_vec_map['a']), \"Wrong output shape for Embedding layer\"\n",
        "\n",
        "\n",
        "    print(\"\\033[92mAll tests passed!\")\n",
        "\n",
        "\n",
        "Emojify_V2_test(Emojify_V2)"
      ]
    },
    {
      "cell_type": "markdown",
      "metadata": {
        "id": "-VamRAKtcFI8"
      },
      "source": [
        "Run the following cell to create your model and check its summary.\n",
        "\n",
        "* Because all sentences in the dataset are less than 10 words, `max_len = 10` was chosen.  \n",
        "* You should see that your architecture uses 20,223,927 parameters, of which 20,000,050 (the word embeddings) are non-trainable, with the remaining 223,877 being trainable.\n",
        "* Because your vocabulary size has 400,001 words (with valid indices from 0 to 400,000) there are 400,001\\*50 = 20,000,050 non-trainable parameters."
      ]
    },
    {
      "cell_type": "code",
      "execution_count": 37,
      "metadata": {
        "colab": {
          "base_uri": "https://localhost:8080/",
          "height": 395
        },
        "id": "8fLhXJ9ucFI8",
        "outputId": "da4bf37a-534e-4bfc-aab3-c5e91804e147",
        "scrolled": false
      },
      "outputs": [
        {
          "output_type": "display_data",
          "data": {
            "text/plain": [
              "\u001b[1mModel: \"functional_1\"\u001b[0m\n"
            ],
            "text/html": [
              "<pre style=\"white-space:pre;overflow-x:auto;line-height:normal;font-family:Menlo,'DejaVu Sans Mono',consolas,'Courier New',monospace\"><span style=\"font-weight: bold\">Model: \"functional_1\"</span>\n",
              "</pre>\n"
            ]
          },
          "metadata": {}
        },
        {
          "output_type": "display_data",
          "data": {
            "text/plain": [
              "┏━━━━━━━━━━━━━━━━━━━━━━━━━━━━━━━━━┳━━━━━━━━━━━━━━━━━━━━━━━━┳━━━━━━━━━━━━━━━┓\n",
              "┃\u001b[1m \u001b[0m\u001b[1mLayer (type)                   \u001b[0m\u001b[1m \u001b[0m┃\u001b[1m \u001b[0m\u001b[1mOutput Shape          \u001b[0m\u001b[1m \u001b[0m┃\u001b[1m \u001b[0m\u001b[1m      Param #\u001b[0m\u001b[1m \u001b[0m┃\n",
              "┡━━━━━━━━━━━━━━━━━━━━━━━━━━━━━━━━━╇━━━━━━━━━━━━━━━━━━━━━━━━╇━━━━━━━━━━━━━━━┩\n",
              "│ input_layer_1 (\u001b[38;5;33mInputLayer\u001b[0m)      │ (\u001b[38;5;45mNone\u001b[0m, \u001b[38;5;34m10\u001b[0m)             │             \u001b[38;5;34m0\u001b[0m │\n",
              "├─────────────────────────────────┼────────────────────────┼───────────────┤\n",
              "│ embedding_3 (\u001b[38;5;33mEmbedding\u001b[0m)         │ (\u001b[38;5;45mNone\u001b[0m, \u001b[38;5;34m10\u001b[0m, \u001b[38;5;34m50\u001b[0m)         │    \u001b[38;5;34m20,000,050\u001b[0m │\n",
              "├─────────────────────────────────┼────────────────────────┼───────────────┤\n",
              "│ lstm_2 (\u001b[38;5;33mLSTM\u001b[0m)                   │ (\u001b[38;5;45mNone\u001b[0m, \u001b[38;5;34m10\u001b[0m, \u001b[38;5;34m128\u001b[0m)        │        \u001b[38;5;34m91,648\u001b[0m │\n",
              "├─────────────────────────────────┼────────────────────────┼───────────────┤\n",
              "│ dropout_2 (\u001b[38;5;33mDropout\u001b[0m)             │ (\u001b[38;5;45mNone\u001b[0m, \u001b[38;5;34m10\u001b[0m, \u001b[38;5;34m128\u001b[0m)        │             \u001b[38;5;34m0\u001b[0m │\n",
              "├─────────────────────────────────┼────────────────────────┼───────────────┤\n",
              "│ lstm_3 (\u001b[38;5;33mLSTM\u001b[0m)                   │ (\u001b[38;5;45mNone\u001b[0m, \u001b[38;5;34m128\u001b[0m)            │       \u001b[38;5;34m131,584\u001b[0m │\n",
              "├─────────────────────────────────┼────────────────────────┼───────────────┤\n",
              "│ dropout_3 (\u001b[38;5;33mDropout\u001b[0m)             │ (\u001b[38;5;45mNone\u001b[0m, \u001b[38;5;34m128\u001b[0m)            │             \u001b[38;5;34m0\u001b[0m │\n",
              "├─────────────────────────────────┼────────────────────────┼───────────────┤\n",
              "│ dense_1 (\u001b[38;5;33mDense\u001b[0m)                 │ (\u001b[38;5;45mNone\u001b[0m, \u001b[38;5;34m5\u001b[0m)              │           \u001b[38;5;34m645\u001b[0m │\n",
              "├─────────────────────────────────┼────────────────────────┼───────────────┤\n",
              "│ activation_1 (\u001b[38;5;33mActivation\u001b[0m)       │ (\u001b[38;5;45mNone\u001b[0m, \u001b[38;5;34m5\u001b[0m)              │             \u001b[38;5;34m0\u001b[0m │\n",
              "└─────────────────────────────────┴────────────────────────┴───────────────┘\n"
            ],
            "text/html": [
              "<pre style=\"white-space:pre;overflow-x:auto;line-height:normal;font-family:Menlo,'DejaVu Sans Mono',consolas,'Courier New',monospace\">┏━━━━━━━━━━━━━━━━━━━━━━━━━━━━━━━━━┳━━━━━━━━━━━━━━━━━━━━━━━━┳━━━━━━━━━━━━━━━┓\n",
              "┃<span style=\"font-weight: bold\"> Layer (type)                    </span>┃<span style=\"font-weight: bold\"> Output Shape           </span>┃<span style=\"font-weight: bold\">       Param # </span>┃\n",
              "┡━━━━━━━━━━━━━━━━━━━━━━━━━━━━━━━━━╇━━━━━━━━━━━━━━━━━━━━━━━━╇━━━━━━━━━━━━━━━┩\n",
              "│ input_layer_1 (<span style=\"color: #0087ff; text-decoration-color: #0087ff\">InputLayer</span>)      │ (<span style=\"color: #00d7ff; text-decoration-color: #00d7ff\">None</span>, <span style=\"color: #00af00; text-decoration-color: #00af00\">10</span>)             │             <span style=\"color: #00af00; text-decoration-color: #00af00\">0</span> │\n",
              "├─────────────────────────────────┼────────────────────────┼───────────────┤\n",
              "│ embedding_3 (<span style=\"color: #0087ff; text-decoration-color: #0087ff\">Embedding</span>)         │ (<span style=\"color: #00d7ff; text-decoration-color: #00d7ff\">None</span>, <span style=\"color: #00af00; text-decoration-color: #00af00\">10</span>, <span style=\"color: #00af00; text-decoration-color: #00af00\">50</span>)         │    <span style=\"color: #00af00; text-decoration-color: #00af00\">20,000,050</span> │\n",
              "├─────────────────────────────────┼────────────────────────┼───────────────┤\n",
              "│ lstm_2 (<span style=\"color: #0087ff; text-decoration-color: #0087ff\">LSTM</span>)                   │ (<span style=\"color: #00d7ff; text-decoration-color: #00d7ff\">None</span>, <span style=\"color: #00af00; text-decoration-color: #00af00\">10</span>, <span style=\"color: #00af00; text-decoration-color: #00af00\">128</span>)        │        <span style=\"color: #00af00; text-decoration-color: #00af00\">91,648</span> │\n",
              "├─────────────────────────────────┼────────────────────────┼───────────────┤\n",
              "│ dropout_2 (<span style=\"color: #0087ff; text-decoration-color: #0087ff\">Dropout</span>)             │ (<span style=\"color: #00d7ff; text-decoration-color: #00d7ff\">None</span>, <span style=\"color: #00af00; text-decoration-color: #00af00\">10</span>, <span style=\"color: #00af00; text-decoration-color: #00af00\">128</span>)        │             <span style=\"color: #00af00; text-decoration-color: #00af00\">0</span> │\n",
              "├─────────────────────────────────┼────────────────────────┼───────────────┤\n",
              "│ lstm_3 (<span style=\"color: #0087ff; text-decoration-color: #0087ff\">LSTM</span>)                   │ (<span style=\"color: #00d7ff; text-decoration-color: #00d7ff\">None</span>, <span style=\"color: #00af00; text-decoration-color: #00af00\">128</span>)            │       <span style=\"color: #00af00; text-decoration-color: #00af00\">131,584</span> │\n",
              "├─────────────────────────────────┼────────────────────────┼───────────────┤\n",
              "│ dropout_3 (<span style=\"color: #0087ff; text-decoration-color: #0087ff\">Dropout</span>)             │ (<span style=\"color: #00d7ff; text-decoration-color: #00d7ff\">None</span>, <span style=\"color: #00af00; text-decoration-color: #00af00\">128</span>)            │             <span style=\"color: #00af00; text-decoration-color: #00af00\">0</span> │\n",
              "├─────────────────────────────────┼────────────────────────┼───────────────┤\n",
              "│ dense_1 (<span style=\"color: #0087ff; text-decoration-color: #0087ff\">Dense</span>)                 │ (<span style=\"color: #00d7ff; text-decoration-color: #00d7ff\">None</span>, <span style=\"color: #00af00; text-decoration-color: #00af00\">5</span>)              │           <span style=\"color: #00af00; text-decoration-color: #00af00\">645</span> │\n",
              "├─────────────────────────────────┼────────────────────────┼───────────────┤\n",
              "│ activation_1 (<span style=\"color: #0087ff; text-decoration-color: #0087ff\">Activation</span>)       │ (<span style=\"color: #00d7ff; text-decoration-color: #00d7ff\">None</span>, <span style=\"color: #00af00; text-decoration-color: #00af00\">5</span>)              │             <span style=\"color: #00af00; text-decoration-color: #00af00\">0</span> │\n",
              "└─────────────────────────────────┴────────────────────────┴───────────────┘\n",
              "</pre>\n"
            ]
          },
          "metadata": {}
        },
        {
          "output_type": "display_data",
          "data": {
            "text/plain": [
              "\u001b[1m Total params: \u001b[0m\u001b[38;5;34m20,223,927\u001b[0m (77.15 MB)\n"
            ],
            "text/html": [
              "<pre style=\"white-space:pre;overflow-x:auto;line-height:normal;font-family:Menlo,'DejaVu Sans Mono',consolas,'Courier New',monospace\"><span style=\"font-weight: bold\"> Total params: </span><span style=\"color: #00af00; text-decoration-color: #00af00\">20,223,927</span> (77.15 MB)\n",
              "</pre>\n"
            ]
          },
          "metadata": {}
        },
        {
          "output_type": "display_data",
          "data": {
            "text/plain": [
              "\u001b[1m Trainable params: \u001b[0m\u001b[38;5;34m223,877\u001b[0m (874.52 KB)\n"
            ],
            "text/html": [
              "<pre style=\"white-space:pre;overflow-x:auto;line-height:normal;font-family:Menlo,'DejaVu Sans Mono',consolas,'Courier New',monospace\"><span style=\"font-weight: bold\"> Trainable params: </span><span style=\"color: #00af00; text-decoration-color: #00af00\">223,877</span> (874.52 KB)\n",
              "</pre>\n"
            ]
          },
          "metadata": {}
        },
        {
          "output_type": "display_data",
          "data": {
            "text/plain": [
              "\u001b[1m Non-trainable params: \u001b[0m\u001b[38;5;34m20,000,050\u001b[0m (76.29 MB)\n"
            ],
            "text/html": [
              "<pre style=\"white-space:pre;overflow-x:auto;line-height:normal;font-family:Menlo,'DejaVu Sans Mono',consolas,'Courier New',monospace\"><span style=\"font-weight: bold\"> Non-trainable params: </span><span style=\"color: #00af00; text-decoration-color: #00af00\">20,000,050</span> (76.29 MB)\n",
              "</pre>\n"
            ]
          },
          "metadata": {}
        }
      ],
      "source": [
        "model = Emojify_V2((maxLen,), word_to_vec_map, word_to_index)\n",
        "model.summary()"
      ]
    },
    {
      "cell_type": "markdown",
      "metadata": {
        "id": "mKIsZqqicFI8"
      },
      "source": [
        "#### Compile the Model\n",
        "\n",
        "As usual, after creating your model in Keras, you need to compile it and define what loss, optimizer and metrics you want to use. Compile your model using `categorical_crossentropy` loss, `adam` optimizer and `['accuracy']` metrics:"
      ]
    },
    {
      "cell_type": "code",
      "execution_count": 38,
      "metadata": {
        "id": "aMf79f45cFI9"
      },
      "outputs": [],
      "source": [
        "model.compile(loss='categorical_crossentropy', optimizer='adam', metrics=['accuracy'])"
      ]
    },
    {
      "cell_type": "markdown",
      "metadata": {
        "id": "mX6NORy7cFI9"
      },
      "source": [
        "<a name='2-5'></a>\n",
        "### 2.5 - Train the Model\n",
        "\n",
        "It's time to train your model! Your Emojifier-V2 `model` takes as input an array of shape (`m`, `max_len`) and outputs probability vectors of shape (`m`, `number of classes`). Thus, you have to convert X_train (array of sentences as strings) to X_train_indices (array of sentences as list of word indices), and Y_train (labels as indices) to Y_train_oh (labels as one-hot vectors)."
      ]
    },
    {
      "cell_type": "code",
      "execution_count": 39,
      "metadata": {
        "id": "UgsBnWQqcFI-"
      },
      "outputs": [],
      "source": [
        "X_train_indices = sentences_to_indices(X_train, word_to_index, maxLen)\n",
        "Y_train_oh = convert_to_one_hot(Y_train, C = 5)"
      ]
    },
    {
      "cell_type": "markdown",
      "metadata": {
        "id": "9fMyo0vqcFI_"
      },
      "source": [
        "Fit the Keras model on `X_train_indices` and `Y_train_oh`, using `epochs = 50` and `batch_size = 32`."
      ]
    },
    {
      "cell_type": "code",
      "execution_count": 40,
      "metadata": {
        "id": "LtFpvyJicFI_",
        "scrolled": true,
        "outputId": "4da8a841-76fe-469e-8db6-2934ae66a462",
        "colab": {
          "base_uri": "https://localhost:8080/"
        }
      },
      "outputs": [
        {
          "output_type": "stream",
          "name": "stdout",
          "text": [
            "Epoch 1/50\n",
            "\u001b[1m5/5\u001b[0m \u001b[32m━━━━━━━━━━━━━━━━━━━━\u001b[0m\u001b[37m\u001b[0m \u001b[1m6s\u001b[0m 21ms/step - accuracy: 0.1768 - loss: 1.6020\n",
            "Epoch 2/50\n",
            "\u001b[1m5/5\u001b[0m \u001b[32m━━━━━━━━━━━━━━━━━━━━\u001b[0m\u001b[37m\u001b[0m \u001b[1m2s\u001b[0m 11ms/step - accuracy: 0.3703 - loss: 1.5103\n",
            "Epoch 3/50\n",
            "\u001b[1m5/5\u001b[0m \u001b[32m━━━━━━━━━━━━━━━━━━━━\u001b[0m\u001b[37m\u001b[0m \u001b[1m0s\u001b[0m 11ms/step - accuracy: 0.3960 - loss: 1.4614\n",
            "Epoch 4/50\n",
            "\u001b[1m5/5\u001b[0m \u001b[32m━━━━━━━━━━━━━━━━━━━━\u001b[0m\u001b[37m\u001b[0m \u001b[1m0s\u001b[0m 11ms/step - accuracy: 0.4263 - loss: 1.4007\n",
            "Epoch 5/50\n",
            "\u001b[1m5/5\u001b[0m \u001b[32m━━━━━━━━━━━━━━━━━━━━\u001b[0m\u001b[37m\u001b[0m \u001b[1m0s\u001b[0m 11ms/step - accuracy: 0.5202 - loss: 1.2583\n",
            "Epoch 6/50\n",
            "\u001b[1m5/5\u001b[0m \u001b[32m━━━━━━━━━━━━━━━━━━━━\u001b[0m\u001b[37m\u001b[0m \u001b[1m0s\u001b[0m 11ms/step - accuracy: 0.5303 - loss: 1.1282\n",
            "Epoch 7/50\n",
            "\u001b[1m5/5\u001b[0m \u001b[32m━━━━━━━━━━━━━━━━━━━━\u001b[0m\u001b[37m\u001b[0m \u001b[1m0s\u001b[0m 11ms/step - accuracy: 0.6057 - loss: 1.1258\n",
            "Epoch 8/50\n",
            "\u001b[1m5/5\u001b[0m \u001b[32m━━━━━━━━━━━━━━━━━━━━\u001b[0m\u001b[37m\u001b[0m \u001b[1m0s\u001b[0m 11ms/step - accuracy: 0.6740 - loss: 0.9542\n",
            "Epoch 9/50\n",
            "\u001b[1m5/5\u001b[0m \u001b[32m━━━━━━━━━━━━━━━━━━━━\u001b[0m\u001b[37m\u001b[0m \u001b[1m0s\u001b[0m 10ms/step - accuracy: 0.6545 - loss: 0.9141\n",
            "Epoch 10/50\n",
            "\u001b[1m5/5\u001b[0m \u001b[32m━━━━━━━━━━━━━━━━━━━━\u001b[0m\u001b[37m\u001b[0m \u001b[1m0s\u001b[0m 11ms/step - accuracy: 0.7389 - loss: 0.7487\n",
            "Epoch 11/50\n",
            "\u001b[1m5/5\u001b[0m \u001b[32m━━━━━━━━━━━━━━━━━━━━\u001b[0m\u001b[37m\u001b[0m \u001b[1m0s\u001b[0m 11ms/step - accuracy: 0.7084 - loss: 0.7992\n",
            "Epoch 12/50\n",
            "\u001b[1m5/5\u001b[0m \u001b[32m━━━━━━━━━━━━━━━━━━━━\u001b[0m\u001b[37m\u001b[0m \u001b[1m0s\u001b[0m 11ms/step - accuracy: 0.7720 - loss: 0.6482\n",
            "Epoch 13/50\n",
            "\u001b[1m5/5\u001b[0m \u001b[32m━━━━━━━━━━━━━━━━━━━━\u001b[0m\u001b[37m\u001b[0m \u001b[1m0s\u001b[0m 11ms/step - accuracy: 0.7213 - loss: 0.6878\n",
            "Epoch 14/50\n",
            "\u001b[1m5/5\u001b[0m \u001b[32m━━━━━━━━━━━━━━━━━━━━\u001b[0m\u001b[37m\u001b[0m \u001b[1m0s\u001b[0m 11ms/step - accuracy: 0.7882 - loss: 0.6151\n",
            "Epoch 15/50\n",
            "\u001b[1m5/5\u001b[0m \u001b[32m━━━━━━━━━━━━━━━━━━━━\u001b[0m\u001b[37m\u001b[0m \u001b[1m0s\u001b[0m 11ms/step - accuracy: 0.8304 - loss: 0.5809\n",
            "Epoch 16/50\n",
            "\u001b[1m5/5\u001b[0m \u001b[32m━━━━━━━━━━━━━━━━━━━━\u001b[0m\u001b[37m\u001b[0m \u001b[1m0s\u001b[0m 11ms/step - accuracy: 0.8181 - loss: 0.4925\n",
            "Epoch 17/50\n",
            "\u001b[1m5/5\u001b[0m \u001b[32m━━━━━━━━━━━━━━━━━━━━\u001b[0m\u001b[37m\u001b[0m \u001b[1m0s\u001b[0m 11ms/step - accuracy: 0.8849 - loss: 0.3844\n",
            "Epoch 18/50\n",
            "\u001b[1m5/5\u001b[0m \u001b[32m━━━━━━━━━━━━━━━━━━━━\u001b[0m\u001b[37m\u001b[0m \u001b[1m0s\u001b[0m 11ms/step - accuracy: 0.8601 - loss: 0.4028\n",
            "Epoch 19/50\n",
            "\u001b[1m5/5\u001b[0m \u001b[32m━━━━━━━━━━━━━━━━━━━━\u001b[0m\u001b[37m\u001b[0m \u001b[1m0s\u001b[0m 11ms/step - accuracy: 0.9170 - loss: 0.2781\n",
            "Epoch 20/50\n",
            "\u001b[1m5/5\u001b[0m \u001b[32m━━━━━━━━━━━━━━━━━━━━\u001b[0m\u001b[37m\u001b[0m \u001b[1m0s\u001b[0m 11ms/step - accuracy: 0.8749 - loss: 0.3007\n",
            "Epoch 21/50\n",
            "\u001b[1m5/5\u001b[0m \u001b[32m━━━━━━━━━━━━━━━━━━━━\u001b[0m\u001b[37m\u001b[0m \u001b[1m0s\u001b[0m 13ms/step - accuracy: 0.8766 - loss: 0.3171\n",
            "Epoch 22/50\n",
            "\u001b[1m5/5\u001b[0m \u001b[32m━━━━━━━━━━━━━━━━━━━━\u001b[0m\u001b[37m\u001b[0m \u001b[1m0s\u001b[0m 11ms/step - accuracy: 0.8952 - loss: 0.3051\n",
            "Epoch 23/50\n",
            "\u001b[1m5/5\u001b[0m \u001b[32m━━━━━━━━━━━━━━━━━━━━\u001b[0m\u001b[37m\u001b[0m \u001b[1m0s\u001b[0m 11ms/step - accuracy: 0.9138 - loss: 0.2285\n",
            "Epoch 24/50\n",
            "\u001b[1m5/5\u001b[0m \u001b[32m━━━━━━━━━━━━━━━━━━━━\u001b[0m\u001b[37m\u001b[0m \u001b[1m0s\u001b[0m 15ms/step - accuracy: 0.9394 - loss: 0.1885\n",
            "Epoch 25/50\n",
            "\u001b[1m5/5\u001b[0m \u001b[32m━━━━━━━━━━━━━━━━━━━━\u001b[0m\u001b[37m\u001b[0m \u001b[1m0s\u001b[0m 11ms/step - accuracy: 0.9257 - loss: 0.1846\n",
            "Epoch 26/50\n",
            "\u001b[1m5/5\u001b[0m \u001b[32m━━━━━━━━━━━━━━━━━━━━\u001b[0m\u001b[37m\u001b[0m \u001b[1m0s\u001b[0m 11ms/step - accuracy: 0.9369 - loss: 0.1793\n",
            "Epoch 27/50\n",
            "\u001b[1m5/5\u001b[0m \u001b[32m━━━━━━━━━━━━━━━━━━━━\u001b[0m\u001b[37m\u001b[0m \u001b[1m0s\u001b[0m 11ms/step - accuracy: 0.9557 - loss: 0.1684\n",
            "Epoch 28/50\n",
            "\u001b[1m5/5\u001b[0m \u001b[32m━━━━━━━━━━━━━━━━━━━━\u001b[0m\u001b[37m\u001b[0m \u001b[1m0s\u001b[0m 11ms/step - accuracy: 0.9557 - loss: 0.1507\n",
            "Epoch 29/50\n",
            "\u001b[1m5/5\u001b[0m \u001b[32m━━━━━━━━━━━━━━━━━━━━\u001b[0m\u001b[37m\u001b[0m \u001b[1m0s\u001b[0m 11ms/step - accuracy: 0.9515 - loss: 0.1525\n",
            "Epoch 30/50\n",
            "\u001b[1m5/5\u001b[0m \u001b[32m━━━━━━━━━━━━━━━━━━━━\u001b[0m\u001b[37m\u001b[0m \u001b[1m0s\u001b[0m 11ms/step - accuracy: 0.9782 - loss: 0.1118\n",
            "Epoch 31/50\n",
            "\u001b[1m5/5\u001b[0m \u001b[32m━━━━━━━━━━━━━━━━━━━━\u001b[0m\u001b[37m\u001b[0m \u001b[1m0s\u001b[0m 12ms/step - accuracy: 0.9098 - loss: 0.2608\n",
            "Epoch 32/50\n",
            "\u001b[1m5/5\u001b[0m \u001b[32m━━━━━━━━━━━━━━━━━━━━\u001b[0m\u001b[37m\u001b[0m \u001b[1m0s\u001b[0m 14ms/step - accuracy: 0.9404 - loss: 0.1443\n",
            "Epoch 33/50\n",
            "\u001b[1m5/5\u001b[0m \u001b[32m━━━━━━━━━━━━━━━━━━━━\u001b[0m\u001b[37m\u001b[0m \u001b[1m0s\u001b[0m 12ms/step - accuracy: 0.9412 - loss: 0.1696\n",
            "Epoch 34/50\n",
            "\u001b[1m5/5\u001b[0m \u001b[32m━━━━━━━━━━━━━━━━━━━━\u001b[0m\u001b[37m\u001b[0m \u001b[1m0s\u001b[0m 11ms/step - accuracy: 0.9399 - loss: 0.1801\n",
            "Epoch 35/50\n",
            "\u001b[1m5/5\u001b[0m \u001b[32m━━━━━━━━━━━━━━━━━━━━\u001b[0m\u001b[37m\u001b[0m \u001b[1m0s\u001b[0m 11ms/step - accuracy: 0.9652 - loss: 0.1232\n",
            "Epoch 36/50\n",
            "\u001b[1m5/5\u001b[0m \u001b[32m━━━━━━━━━━━━━━━━━━━━\u001b[0m\u001b[37m\u001b[0m \u001b[1m0s\u001b[0m 12ms/step - accuracy: 0.9125 - loss: 0.2558\n",
            "Epoch 37/50\n",
            "\u001b[1m5/5\u001b[0m \u001b[32m━━━━━━━━━━━━━━━━━━━━\u001b[0m\u001b[37m\u001b[0m \u001b[1m0s\u001b[0m 11ms/step - accuracy: 0.9468 - loss: 0.1617\n",
            "Epoch 38/50\n",
            "\u001b[1m5/5\u001b[0m \u001b[32m━━━━━━━━━━━━━━━━━━━━\u001b[0m\u001b[37m\u001b[0m \u001b[1m0s\u001b[0m 17ms/step - accuracy: 0.9109 - loss: 0.2817\n",
            "Epoch 39/50\n",
            "\u001b[1m5/5\u001b[0m \u001b[32m━━━━━━━━━━━━━━━━━━━━\u001b[0m\u001b[37m\u001b[0m \u001b[1m0s\u001b[0m 16ms/step - accuracy: 0.9636 - loss: 0.1030\n",
            "Epoch 40/50\n",
            "\u001b[1m5/5\u001b[0m \u001b[32m━━━━━━━━━━━━━━━━━━━━\u001b[0m\u001b[37m\u001b[0m \u001b[1m0s\u001b[0m 17ms/step - accuracy: 0.9199 - loss: 0.1919\n",
            "Epoch 41/50\n",
            "\u001b[1m5/5\u001b[0m \u001b[32m━━━━━━━━━━━━━━━━━━━━\u001b[0m\u001b[37m\u001b[0m \u001b[1m0s\u001b[0m 15ms/step - accuracy: 0.9446 - loss: 0.1424\n",
            "Epoch 42/50\n",
            "\u001b[1m5/5\u001b[0m \u001b[32m━━━━━━━━━━━━━━━━━━━━\u001b[0m\u001b[37m\u001b[0m \u001b[1m0s\u001b[0m 15ms/step - accuracy: 0.9381 - loss: 0.2699\n",
            "Epoch 43/50\n",
            "\u001b[1m5/5\u001b[0m \u001b[32m━━━━━━━━━━━━━━━━━━━━\u001b[0m\u001b[37m\u001b[0m \u001b[1m0s\u001b[0m 15ms/step - accuracy: 0.9569 - loss: 0.1379\n",
            "Epoch 44/50\n",
            "\u001b[1m5/5\u001b[0m \u001b[32m━━━━━━━━━━━━━━━━━━━━\u001b[0m\u001b[37m\u001b[0m \u001b[1m0s\u001b[0m 17ms/step - accuracy: 0.9699 - loss: 0.0981\n",
            "Epoch 45/50\n",
            "\u001b[1m5/5\u001b[0m \u001b[32m━━━━━━━━━━━━━━━━━━━━\u001b[0m\u001b[37m\u001b[0m \u001b[1m0s\u001b[0m 15ms/step - accuracy: 0.9863 - loss: 0.0830\n",
            "Epoch 46/50\n",
            "\u001b[1m5/5\u001b[0m \u001b[32m━━━━━━━━━━━━━━━━━━━━\u001b[0m\u001b[37m\u001b[0m \u001b[1m0s\u001b[0m 15ms/step - accuracy: 0.9962 - loss: 0.0439\n",
            "Epoch 47/50\n",
            "\u001b[1m5/5\u001b[0m \u001b[32m━━━━━━━━━━━━━━━━━━━━\u001b[0m\u001b[37m\u001b[0m \u001b[1m0s\u001b[0m 17ms/step - accuracy: 0.9811 - loss: 0.0383\n",
            "Epoch 48/50\n",
            "\u001b[1m5/5\u001b[0m \u001b[32m━━━━━━━━━━━━━━━━━━━━\u001b[0m\u001b[37m\u001b[0m \u001b[1m0s\u001b[0m 19ms/step - accuracy: 0.9918 - loss: 0.0304\n",
            "Epoch 49/50\n",
            "\u001b[1m5/5\u001b[0m \u001b[32m━━━━━━━━━━━━━━━━━━━━\u001b[0m\u001b[37m\u001b[0m \u001b[1m0s\u001b[0m 17ms/step - accuracy: 1.0000 - loss: 0.0226\n",
            "Epoch 50/50\n",
            "\u001b[1m5/5\u001b[0m \u001b[32m━━━━━━━━━━━━━━━━━━━━\u001b[0m\u001b[37m\u001b[0m \u001b[1m0s\u001b[0m 17ms/step - accuracy: 1.0000 - loss: 0.0131\n"
          ]
        },
        {
          "output_type": "execute_result",
          "data": {
            "text/plain": [
              "<keras.src.callbacks.history.History at 0x7983ba7ab170>"
            ]
          },
          "metadata": {},
          "execution_count": 40
        }
      ],
      "source": [
        "model.fit(X_train_indices, Y_train_oh, epochs = 50, batch_size = 32, shuffle=True)"
      ]
    },
    {
      "cell_type": "markdown",
      "metadata": {
        "id": "gR2QJZAkcFJA"
      },
      "source": [
        "Your model should have between **90% and 100% accuracy** on the training set. Exact model accuracy may vary!\n",
        "\n",
        "Run the following cell to evaluate your model on the test set:"
      ]
    },
    {
      "cell_type": "code",
      "execution_count": 41,
      "metadata": {
        "colab": {
          "base_uri": "https://localhost:8080/"
        },
        "id": "sIbcdVibcFJA",
        "outputId": "f88bee21-ee72-4a7f-fe23-a5d43f70db53",
        "scrolled": true
      },
      "outputs": [
        {
          "output_type": "stream",
          "name": "stdout",
          "text": [
            "\u001b[1m2/2\u001b[0m \u001b[32m━━━━━━━━━━━━━━━━━━━━\u001b[0m\u001b[37m\u001b[0m \u001b[1m0s\u001b[0m 22ms/step - accuracy: 0.8080 - loss: 0.5842 \n",
            "\n",
            "Test accuracy =  0.8214285969734192\n"
          ]
        }
      ],
      "source": [
        "X_test_indices = sentences_to_indices(X_test, word_to_index, max_len = maxLen)\n",
        "Y_test_oh = convert_to_one_hot(Y_test, C = 5)\n",
        "loss, acc = model.evaluate(X_test_indices, Y_test_oh)\n",
        "print()\n",
        "print(\"Test accuracy = \", acc)"
      ]
    },
    {
      "cell_type": "markdown",
      "metadata": {
        "id": "2d6y4sJbcFJA"
      },
      "source": [
        "You should get a test accuracy between 80% and 95%. Run the cell below to see the mislabelled examples:"
      ]
    },
    {
      "cell_type": "code",
      "execution_count": 42,
      "metadata": {
        "colab": {
          "base_uri": "https://localhost:8080/"
        },
        "id": "mjMyEGmYcFJC",
        "outputId": "3c36f309-0f8a-4008-dc28-966463e72387"
      },
      "outputs": [
        {
          "output_type": "stream",
          "name": "stdout",
          "text": [
            "\u001b[1m2/2\u001b[0m \u001b[32m━━━━━━━━━━━━━━━━━━━━\u001b[0m\u001b[37m\u001b[0m \u001b[1m0s\u001b[0m 253ms/step\n",
            "Expected emoji:😄 prediction: she got me a nice present\t❤️\n",
            "Expected emoji:😢 prediction: work is hard\t😄\n",
            "Expected emoji:😢 prediction: This girl is messing with me\t❤️\n",
            "Expected emoji:😢 prediction: work is horrible\t😄\n",
            "Expected emoji:🍕 prediction: any suggestions for dinner\t😄\n",
            "Expected emoji:😄 prediction: you brighten my day\t❤️\n",
            "Expected emoji:😢 prediction: she is a bully\t❤️\n",
            "Expected emoji:😢 prediction: My life is so boring\t❤️\n",
            "Expected emoji:😄 prediction: will you be my valentine\t❤️\n",
            "Expected emoji:🍕 prediction: I did not have breakfast ❤️\n"
          ]
        }
      ],
      "source": [
        "# This code allows you to see the mislabelled examples\n",
        "Y_test_array = np.array(Y_test).reshape(-1)\n",
        "C = 5\n",
        "y_test_oh = np.eye(C)[Y_test_array]\n",
        "X_test_indices = sentences_to_indices(X_test, word_to_index, maxLen)\n",
        "pred = model.predict(X_test_indices)\n",
        "for i in range(len(X_test)):\n",
        "    x = X_test_indices\n",
        "    num = np.argmax(pred[i])\n",
        "    if(num != Y_test[i]):\n",
        "        print('Expected emoji:'+ label_to_emoji(Y_test[i]) + ' prediction: '+ X_test[i] + label_to_emoji(num).strip())"
      ]
    },
    {
      "cell_type": "markdown",
      "metadata": {
        "id": "UGg00oBRcFJD"
      },
      "source": [
        "Now you can try it on your own example! Write your own sentence below:"
      ]
    },
    {
      "cell_type": "code",
      "execution_count": 46,
      "metadata": {
        "colab": {
          "base_uri": "https://localhost:8080/"
        },
        "id": "wEgCsIE7cFJE",
        "outputId": "bf3d29af-8d23-45b4-ea62-f1a3987c5f0a"
      },
      "outputs": [
        {
          "output_type": "stream",
          "name": "stdout",
          "text": [
            "\u001b[1m1/1\u001b[0m \u001b[32m━━━━━━━━━━━━━━━━━━━━\u001b[0m\u001b[37m\u001b[0m \u001b[1m0s\u001b[0m 47ms/step\n",
            "she is love ❤️\n"
          ]
        }
      ],
      "source": [
        "# Change the sentence below to see your prediction. Make sure all the words are in the Glove embeddings.\n",
        "x_test = np.array(['she is love'])\n",
        "X_test_indices = sentences_to_indices(x_test, word_to_index, maxLen)\n",
        "print(x_test[0] +' '+  label_to_emoji(np.argmax(model.predict(X_test_indices))))"
      ]
    },
    {
      "cell_type": "markdown",
      "metadata": {
        "id": "tT53ibgFcFJE"
      },
      "source": [
        "#### LSTM Version Accounts for Word Order\n",
        "* The Emojify-V1 model did not predict \"not feeling happy\" correctly, but your implementation of Emojify-V2 got it right!\n",
        "    * If it didn't, be aware that Keras' outputs are slightly random each time, so this is probably why.\n",
        "* The current model still isn't very robust at understanding negation (such as \"not happy\")\n",
        "    * This is because the training set is small and doesn't have a lot of examples of negation.\n",
        "    * If the training set were larger, the LSTM model would be much better than the Emojify-V1 model at understanding more complex sentences."
      ]
    },
    {
      "cell_type": "markdown",
      "metadata": {
        "id": "0ysWCkrcFEb7"
      },
      "source": [
        "### Congratulations!\n",
        "\n",
        "You've completed this notebook, and harnessed the power of LSTMs to make your words more emotive! ❤️❤️❤️\n",
        "\n",
        "By now, you've:\n",
        "\n",
        "* Created an embedding matrix\n",
        "* Observed how negative sampling learns word vectors more efficiently than other methods\n",
        "* Experienced the advantages and disadvantages of the GloVe algorithm\n",
        "* And built a sentiment classifier using word embeddings!\n",
        "\n",
        "Cool! (or Emojified: 😎😎😎 )"
      ]
    },
    {
      "cell_type": "markdown",
      "metadata": {
        "id": "GgoBXYn3cFJE"
      },
      "source": [
        "<font color='blue'><b>What you should remember</b>:\n",
        "- If you have an NLP task where the training set is small, using word embeddings can help your algorithm significantly.\n",
        "- Word embeddings allow your model to work on words in the test set that may not even appear in the training set.\n",
        "- Training sequence models in Keras (and in most other deep learning frameworks) requires a few important details:\n",
        "    - To use mini-batches, the sequences need to be **padded** so that all the examples in a mini-batch have the **same length**.\n",
        "    - An `Embedding()` layer can be initialized with pretrained values.\n",
        "        - These values can be either fixed or trained further on your dataset.\n",
        "        - If however your labeled dataset is small, it's usually not worth trying to train a large pre-trained set of embeddings.   \n",
        "    - `LSTM()` has a flag called `return_sequences` to decide if you would like to return all hidden states or only the last one.\n",
        "    - You can use `Dropout()` right after `LSTM()` to regularize your network."
      ]
    },
    {
      "cell_type": "markdown",
      "metadata": {
        "id": "LUSzrFkYcFJF"
      },
      "source": [
        "\n",
        "### Input sentences:\n",
        "```Python\n",
        "\"Congratulations on finishing this assignment and building an Emojifier.\"\n",
        "\"We hope you're happy with what you've accomplished in this notebook!\"\n",
        "```\n",
        "### Output emojis:\n",
        "# 😀😀😀😀😀😀\n",
        "\n",
        "☁ 👋🚀 ☁☁\n",
        "\n",
        "      ✨ BYE-BYE!\n",
        "      \n",
        "☁ ✨  🎈\n",
        "\n",
        "      ✨  ☁\n",
        "  \n",
        "         ✨\n",
        "\n",
        "     ✨\n",
        "\n",
        "🌾✨💨 🏃 🏠🏢                    "
      ]
    },
    {
      "cell_type": "markdown",
      "metadata": {
        "id": "vYoEQMCVcFJG"
      },
      "source": [
        "<a name='3'></a>\n",
        "## 3 - Acknowledgments\n",
        "\n",
        "Thanks to Alison Darcy and the Woebot team for their advice on the creation of this assignment.\n",
        "* Woebot is a chatbot friend that is ready to speak with you 24/7.\n",
        "* Part of Woebot's technology uses word embeddings to understand the emotions of what you say.\n",
        "* You can chat with Woebot by going to http://woebot.io\n",
        "\n",
        "<img src=\"images/woebot.png\" style=\"width:600px;height:300px;\">"
      ]
    },
    {
      "cell_type": "code",
      "execution_count": null,
      "metadata": {
        "id": "Tc2-SKnLnCY1"
      },
      "outputs": [],
      "source": []
    }
  ],
  "metadata": {
    "accelerator": "GPU",
    "colab": {
      "collapsed_sections": [
        "zhyVzuThcFI4",
        "LUSzrFkYcFJF"
      ],
      "provenance": []
    },
    "coursera": {
      "schema_names": [
        "DLSC5W2-A2"
      ]
    },
    "kernelspec": {
      "display_name": "Python 3",
      "language": "python",
      "name": "python3"
    },
    "language_info": {
      "codemirror_mode": {
        "name": "ipython",
        "version": 3
      },
      "file_extension": ".py",
      "mimetype": "text/x-python",
      "name": "python",
      "nbconvert_exporter": "python",
      "pygments_lexer": "ipython3",
      "version": "3.12.10"
    }
  },
  "nbformat": 4,
  "nbformat_minor": 0
}